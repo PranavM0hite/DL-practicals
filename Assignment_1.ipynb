{
 "cells": [
  {
   "cell_type": "markdown",
   "metadata": {
    "id": "y0kQAsW-3Ppa"
   },
   "source": [
    "Name: **Shreyash Jagtap** <br>\n",
    "Title: **Assignment 1: Study of Deep learning Packages: Tensorflow, Keras, Theano and PyTorch.\n",
    "Document the distinct features and functionality of the packages.**<br>"
   ]
  },
  {
   "cell_type": "code",
   "execution_count": 1,
   "metadata": {
    "id": "oecPSoNR3-yP"
   },
   "outputs": [],
   "source": [
    "import numpy as np"
   ]
  },
  {
   "cell_type": "markdown",
   "metadata": {
    "id": "SZ4PqakF32cQ"
   },
   "source": [
    "**1. Tensorflow**"
   ]
  },
  {
   "cell_type": "code",
   "execution_count": 2,
   "metadata": {
    "id": "6m8-7WTb3Mit"
   },
   "outputs": [],
   "source": [
    "import tensorflow as tf"
   ]
  },
  {
   "cell_type": "code",
   "execution_count": 3,
   "metadata": {
    "colab": {
     "base_uri": "https://localhost:8080/"
    },
    "id": "rDAP1sI64A_T",
    "outputId": "d7c1900f-e4c8-4636-c144-14fbe8683285"
   },
   "outputs": [
    {
     "name": "stdout",
     "output_type": "stream",
     "text": [
      "2.14.0\n"
     ]
    }
   ],
   "source": [
    "print(tf.__version__)"
   ]
  },
  {
   "cell_type": "markdown",
   "metadata": {
    "id": "6IrNy3Ek4Dtv"
   },
   "source": [
    "**2. Keras**"
   ]
  },
  {
   "cell_type": "code",
   "execution_count": 4,
   "metadata": {
    "colab": {
     "base_uri": "https://localhost:8080/"
    },
    "id": "oda3NOiV4GcJ",
    "outputId": "ffc60e3a-1a0b-4a54-9998-873ad2b5f257"
   },
   "outputs": [],
   "source": [
    "from keras import datasets\n",
    "# Load MNIST datasets from keras\n",
    "(train_images, train_labels), (test_images, test_labels) = datasets.mnist.load_data()"
   ]
  },
  {
   "cell_type": "code",
   "execution_count": 5,
   "metadata": {
    "colab": {
     "base_uri": "https://localhost:8080/"
    },
    "id": "FcugfdER4LP6",
    "outputId": "24d8e04c-aee6-446e-ac99-24de501f9706"
   },
   "outputs": [
    {
     "data": {
      "text/plain": [
       "(60000, 28, 28)"
      ]
     },
     "execution_count": 5,
     "metadata": {},
     "output_type": "execute_result"
    }
   ],
   "source": [
    "train_images.shape"
   ]
  },
  {
   "cell_type": "code",
   "execution_count": 6,
   "metadata": {
    "colab": {
     "base_uri": "https://localhost:8080/"
    },
    "id": "8cfuAeKo4OeX",
    "outputId": "6c0d9462-aa3a-4ba1-aaf5-e1191e16792d"
   },
   "outputs": [
    {
     "data": {
      "text/plain": [
       "(10000, 28, 28)"
      ]
     },
     "execution_count": 6,
     "metadata": {},
     "output_type": "execute_result"
    }
   ],
   "source": [
    "test_images.shape"
   ]
  },
  {
   "cell_type": "markdown",
   "metadata": {
    "id": "a8hDZ2mn4PRn"
   },
   "source": [
    "**3. Theano**"
   ]
  },
  {
   "cell_type": "code",
   "execution_count": 7,
   "metadata": {
    "colab": {
     "base_uri": "https://localhost:8080/"
    },
    "id": "_3g_Lsce4Q9O",
    "outputId": "c40852cb-86a4-4f47-c7e4-b003c3d746d0"
   },
   "outputs": [
    {
     "name": "stdout",
     "output_type": "stream",
     "text": [
      "Defaulting to user installation because normal site-packages is not writeable\n",
      "Requirement already satisfied: Theano in c:\\users\\omakar\\appdata\\roaming\\python\\python311\\site-packages (1.0.5)\n",
      "Requirement already satisfied: numpy>=1.9.1 in c:\\programdata\\anaconda3\\lib\\site-packages (from Theano) (1.24.3)\n",
      "Requirement already satisfied: scipy>=0.14 in c:\\programdata\\anaconda3\\lib\\site-packages (from Theano) (1.10.1)\n",
      "Requirement already satisfied: six>=1.9.0 in c:\\programdata\\anaconda3\\lib\\site-packages (from Theano) (1.16.0)\n",
      "Note: you may need to restart the kernel to use updated packages.\n"
     ]
    }
   ],
   "source": [
    "pip install Theano"
   ]
  },
  {
   "cell_type": "code",
   "execution_count": 24,
   "metadata": {},
   "outputs": [
    {
     "ename": "AttributeError",
     "evalue": "partially initialized module 'theano' has no attribute 'compile' (most likely due to a circular import)",
     "output_type": "error",
     "traceback": [
      "\u001b[1;31m---------------------------------------------------------------------------\u001b[0m",
      "\u001b[1;31mAttributeError\u001b[0m                            Traceback (most recent call last)",
      "Cell \u001b[1;32mIn[24], line 1\u001b[0m\n\u001b[1;32m----> 1\u001b[0m \u001b[38;5;28;01mimport\u001b[39;00m \u001b[38;5;21;01mtheano\u001b[39;00m\n",
      "File \u001b[1;32m~\\AppData\\Roaming\\Python\\Python311\\site-packages\\theano\\__init__.py:124\u001b[0m\n\u001b[0;32m    120\u001b[0m \u001b[38;5;28;01mfrom\u001b[39;00m \u001b[38;5;21;01mtheano\u001b[39;00m\u001b[38;5;21;01m.\u001b[39;00m\u001b[38;5;21;01mmisc\u001b[39;00m\u001b[38;5;21;01m.\u001b[39;00m\u001b[38;5;21;01msafe_asarray\u001b[39;00m \u001b[38;5;28;01mimport\u001b[39;00m _asarray\n\u001b[0;32m    122\u001b[0m \u001b[38;5;28;01mfrom\u001b[39;00m \u001b[38;5;21;01mtheano\u001b[39;00m\u001b[38;5;21;01m.\u001b[39;00m\u001b[38;5;21;01mprinting\u001b[39;00m \u001b[38;5;28;01mimport\u001b[39;00m pprint, pp\n\u001b[1;32m--> 124\u001b[0m \u001b[38;5;28;01mfrom\u001b[39;00m \u001b[38;5;21;01mtheano\u001b[39;00m\u001b[38;5;21;01m.\u001b[39;00m\u001b[38;5;21;01mscan_module\u001b[39;00m \u001b[38;5;28;01mimport\u001b[39;00m (scan, \u001b[38;5;28mmap\u001b[39m, reduce, foldl, foldr, clone,\n\u001b[0;32m    125\u001b[0m                                 scan_checkpoints)\n\u001b[0;32m    127\u001b[0m \u001b[38;5;28;01mfrom\u001b[39;00m \u001b[38;5;21;01mtheano\u001b[39;00m\u001b[38;5;21;01m.\u001b[39;00m\u001b[38;5;21;01mupdates\u001b[39;00m \u001b[38;5;28;01mimport\u001b[39;00m OrderedUpdates\n\u001b[0;32m    129\u001b[0m \u001b[38;5;66;03m# scan_module import above initializes tensor and scalar making these imports\u001b[39;00m\n\u001b[0;32m    130\u001b[0m \u001b[38;5;66;03m# redundant\u001b[39;00m\n\u001b[0;32m    131\u001b[0m \n\u001b[1;32m   (...)\u001b[0m\n\u001b[0;32m    136\u001b[0m \n\u001b[0;32m    137\u001b[0m \u001b[38;5;66;03m# import sparse\u001b[39;00m\n",
      "File \u001b[1;32m~\\AppData\\Roaming\\Python\\Python311\\site-packages\\theano\\scan_module\\__init__.py:41\u001b[0m\n\u001b[0;32m     38\u001b[0m __copyright__ \u001b[38;5;241m=\u001b[39m \u001b[38;5;124m\"\u001b[39m\u001b[38;5;124m(c) 2010, Universite de Montreal\u001b[39m\u001b[38;5;124m\"\u001b[39m\n\u001b[0;32m     39\u001b[0m __contact__ \u001b[38;5;241m=\u001b[39m \u001b[38;5;124m\"\u001b[39m\u001b[38;5;124mRazvan Pascanu <r.pascanu@gmail>\u001b[39m\u001b[38;5;124m\"\u001b[39m\n\u001b[1;32m---> 41\u001b[0m \u001b[38;5;28;01mfrom\u001b[39;00m \u001b[38;5;21;01mtheano\u001b[39;00m\u001b[38;5;21;01m.\u001b[39;00m\u001b[38;5;21;01mscan_module\u001b[39;00m \u001b[38;5;28;01mimport\u001b[39;00m scan_opt\n\u001b[0;32m     42\u001b[0m \u001b[38;5;28;01mfrom\u001b[39;00m \u001b[38;5;21;01mtheano\u001b[39;00m\u001b[38;5;21;01m.\u001b[39;00m\u001b[38;5;21;01mscan_module\u001b[39;00m\u001b[38;5;21;01m.\u001b[39;00m\u001b[38;5;21;01mscan\u001b[39;00m \u001b[38;5;28;01mimport\u001b[39;00m scan\n\u001b[0;32m     43\u001b[0m \u001b[38;5;28;01mfrom\u001b[39;00m \u001b[38;5;21;01mtheano\u001b[39;00m\u001b[38;5;21;01m.\u001b[39;00m\u001b[38;5;21;01mscan_module\u001b[39;00m\u001b[38;5;21;01m.\u001b[39;00m\u001b[38;5;21;01mscan_checkpoints\u001b[39;00m \u001b[38;5;28;01mimport\u001b[39;00m scan_checkpoints\n",
      "File \u001b[1;32m~\\AppData\\Roaming\\Python\\Python311\\site-packages\\theano\\scan_module\\scan_opt.py:60\u001b[0m\n\u001b[0;32m     57\u001b[0m \u001b[38;5;28;01mimport\u001b[39;00m \u001b[38;5;21;01mnumpy\u001b[39;00m \u001b[38;5;28;01mas\u001b[39;00m \u001b[38;5;21;01mnp\u001b[39;00m\n\u001b[0;32m     59\u001b[0m \u001b[38;5;28;01mimport\u001b[39;00m \u001b[38;5;21;01mtheano\u001b[39;00m\n\u001b[1;32m---> 60\u001b[0m \u001b[38;5;28;01mfrom\u001b[39;00m \u001b[38;5;21;01mtheano\u001b[39;00m \u001b[38;5;28;01mimport\u001b[39;00m tensor, scalar\n\u001b[0;32m     61\u001b[0m \u001b[38;5;28;01mfrom\u001b[39;00m \u001b[38;5;21;01mtheano\u001b[39;00m\u001b[38;5;21;01m.\u001b[39;00m\u001b[38;5;21;01mtensor\u001b[39;00m \u001b[38;5;28;01mimport\u001b[39;00m opt, get_scalar_constant_value, Alloc, AllocEmpty\n\u001b[0;32m     62\u001b[0m \u001b[38;5;28;01mfrom\u001b[39;00m \u001b[38;5;21;01mtheano\u001b[39;00m \u001b[38;5;28;01mimport\u001b[39;00m gof\n",
      "File \u001b[1;32m~\\AppData\\Roaming\\Python\\Python311\\site-packages\\theano\\tensor\\__init__.py:8\u001b[0m\n\u001b[0;32m      4\u001b[0m __docformat__ \u001b[38;5;241m=\u001b[39m \u001b[38;5;124m\"\u001b[39m\u001b[38;5;124mrestructuredtext en\u001b[39m\u001b[38;5;124m\"\u001b[39m\n\u001b[0;32m      6\u001b[0m \u001b[38;5;28;01mimport\u001b[39;00m \u001b[38;5;21;01mwarnings\u001b[39;00m\n\u001b[1;32m----> 8\u001b[0m \u001b[38;5;28;01mfrom\u001b[39;00m \u001b[38;5;21;01mtheano\u001b[39;00m\u001b[38;5;21;01m.\u001b[39;00m\u001b[38;5;21;01mtensor\u001b[39;00m\u001b[38;5;21;01m.\u001b[39;00m\u001b[38;5;21;01mbasic\u001b[39;00m \u001b[38;5;28;01mimport\u001b[39;00m \u001b[38;5;241m*\u001b[39m\n\u001b[0;32m      9\u001b[0m \u001b[38;5;28;01mfrom\u001b[39;00m \u001b[38;5;21;01mtheano\u001b[39;00m\u001b[38;5;21;01m.\u001b[39;00m\u001b[38;5;21;01mtensor\u001b[39;00m\u001b[38;5;21;01m.\u001b[39;00m\u001b[38;5;21;01msubtensor\u001b[39;00m \u001b[38;5;28;01mimport\u001b[39;00m \u001b[38;5;241m*\u001b[39m\n\u001b[0;32m     10\u001b[0m \u001b[38;5;28;01mfrom\u001b[39;00m \u001b[38;5;21;01mtheano\u001b[39;00m\u001b[38;5;21;01m.\u001b[39;00m\u001b[38;5;21;01mtensor\u001b[39;00m\u001b[38;5;21;01m.\u001b[39;00m\u001b[38;5;21;01mtype_other\u001b[39;00m \u001b[38;5;28;01mimport\u001b[39;00m \u001b[38;5;241m*\u001b[39m\n",
      "File \u001b[1;32m~\\AppData\\Roaming\\Python\\Python311\\site-packages\\theano\\tensor\\basic.py:20\u001b[0m\n\u001b[0;32m     17\u001b[0m \u001b[38;5;28;01mfrom\u001b[39;00m \u001b[38;5;21;01mtheano\u001b[39;00m\u001b[38;5;21;01m.\u001b[39;00m\u001b[38;5;21;01mgof\u001b[39;00m \u001b[38;5;28;01mimport\u001b[39;00m Apply, Constant, Op, Variable, ParamsType\n\u001b[0;32m     18\u001b[0m \u001b[38;5;28;01mfrom\u001b[39;00m \u001b[38;5;21;01mtheano\u001b[39;00m\u001b[38;5;21;01m.\u001b[39;00m\u001b[38;5;21;01mgof\u001b[39;00m\u001b[38;5;21;01m.\u001b[39;00m\u001b[38;5;21;01mtype\u001b[39;00m \u001b[38;5;28;01mimport\u001b[39;00m Generic\n\u001b[1;32m---> 20\u001b[0m \u001b[38;5;28;01mfrom\u001b[39;00m \u001b[38;5;21;01mtheano\u001b[39;00m\u001b[38;5;21;01m.\u001b[39;00m\u001b[38;5;21;01mscalar\u001b[39;00m \u001b[38;5;28;01mimport\u001b[39;00m int32 \u001b[38;5;28;01mas\u001b[39;00m int32_t\n\u001b[0;32m     21\u001b[0m \u001b[38;5;28;01mfrom\u001b[39;00m \u001b[38;5;21;01mtheano\u001b[39;00m\u001b[38;5;21;01m.\u001b[39;00m\u001b[38;5;21;01mtensor\u001b[39;00m \u001b[38;5;28;01mimport\u001b[39;00m elemwise\n\u001b[0;32m     22\u001b[0m \u001b[38;5;28;01mfrom\u001b[39;00m \u001b[38;5;21;01mtheano\u001b[39;00m\u001b[38;5;21;01m.\u001b[39;00m\u001b[38;5;21;01mtensor\u001b[39;00m\u001b[38;5;21;01m.\u001b[39;00m\u001b[38;5;21;01mvar\u001b[39;00m \u001b[38;5;28;01mimport\u001b[39;00m (AsTensorError, TensorVariable,\n\u001b[0;32m     23\u001b[0m                                TensorConstant, TensorConstantSignature,\n\u001b[0;32m     24\u001b[0m                                _tensor_py_operators)\n",
      "File \u001b[1;32m~\\AppData\\Roaming\\Python\\Python311\\site-packages\\theano\\scalar\\__init__.py:3\u001b[0m\n\u001b[0;32m      1\u001b[0m \u001b[38;5;28;01mfrom\u001b[39;00m \u001b[38;5;21;01m__future__\u001b[39;00m \u001b[38;5;28;01mimport\u001b[39;00m absolute_import, print_function, division\n\u001b[1;32m----> 3\u001b[0m \u001b[38;5;28;01mfrom\u001b[39;00m \u001b[38;5;21;01m.\u001b[39;00m\u001b[38;5;21;01mbasic\u001b[39;00m \u001b[38;5;28;01mimport\u001b[39;00m \u001b[38;5;241m*\u001b[39m\n\u001b[0;32m      5\u001b[0m \u001b[38;5;28;01mfrom\u001b[39;00m \u001b[38;5;21;01m.\u001b[39;00m\u001b[38;5;21;01mbasic_scipy\u001b[39;00m \u001b[38;5;28;01mimport\u001b[39;00m \u001b[38;5;241m*\u001b[39m\n",
      "File \u001b[1;32m~\\AppData\\Roaming\\Python\\Python311\\site-packages\\theano\\scalar\\basic.py:656\u001b[0m\n\u001b[0;32m    653\u001b[0m         \u001b[38;5;28;01mreturn\u001b[39;00m shape_info\n\u001b[0;32m    655\u001b[0m \u001b[38;5;66;03m# Register C code for ViewOp on Scalars.\u001b[39;00m\n\u001b[1;32m--> 656\u001b[0m theano\u001b[38;5;241m.\u001b[39mcompile\u001b[38;5;241m.\u001b[39mregister_view_op_c_code(\n\u001b[0;32m    657\u001b[0m     Scalar,\n\u001b[0;32m    658\u001b[0m \u001b[38;5;250m    \u001b[39m\u001b[38;5;124;03m\"\"\"\u001b[39;00m\n\u001b[0;32m    659\u001b[0m \u001b[38;5;124;03m    %(oname)s = %(iname)s;\u001b[39;00m\n\u001b[0;32m    660\u001b[0m \u001b[38;5;124;03m    \"\"\"\u001b[39;00m,\n\u001b[0;32m    661\u001b[0m     \u001b[38;5;241m1\u001b[39m)\n\u001b[0;32m    664\u001b[0m \u001b[38;5;28mbool\u001b[39m \u001b[38;5;241m=\u001b[39m get_scalar_type(\u001b[38;5;124m'\u001b[39m\u001b[38;5;124mbool\u001b[39m\u001b[38;5;124m'\u001b[39m)\n\u001b[0;32m    665\u001b[0m int8 \u001b[38;5;241m=\u001b[39m get_scalar_type(\u001b[38;5;124m'\u001b[39m\u001b[38;5;124mint8\u001b[39m\u001b[38;5;124m'\u001b[39m)\n",
      "\u001b[1;31mAttributeError\u001b[0m: partially initialized module 'theano' has no attribute 'compile' (most likely due to a circular import)"
     ]
    }
   ],
   "source": [
    "import theano"
   ]
  },
  {
   "cell_type": "code",
   "execution_count": 23,
   "metadata": {
    "id": "HYJwni9i4TlV",
    "scrolled": false
   },
   "outputs": [
    {
     "ename": "AttributeError",
     "evalue": "partially initialized module 'theano' has no attribute 'compile' (most likely due to a circular import)",
     "output_type": "error",
     "traceback": [
      "\u001b[1;31m---------------------------------------------------------------------------\u001b[0m",
      "\u001b[1;31mAttributeError\u001b[0m                            Traceback (most recent call last)",
      "Cell \u001b[1;32mIn[23], line 1\u001b[0m\n\u001b[1;32m----> 1\u001b[0m \u001b[38;5;28;01mfrom\u001b[39;00m \u001b[38;5;21;01mtheano\u001b[39;00m \u001b[38;5;28;01mimport\u001b[39;00m function\n\u001b[0;32m      2\u001b[0m \u001b[38;5;28;01mfrom\u001b[39;00m \u001b[38;5;21;01mtheano\u001b[39;00m\u001b[38;5;21;01m.\u001b[39;00m\u001b[38;5;21;01mtensor\u001b[39;00m \u001b[38;5;28;01mimport\u001b[39;00m T\n",
      "File \u001b[1;32m~\\AppData\\Roaming\\Python\\Python311\\site-packages\\theano\\__init__.py:124\u001b[0m\n\u001b[0;32m    120\u001b[0m \u001b[38;5;28;01mfrom\u001b[39;00m \u001b[38;5;21;01mtheano\u001b[39;00m\u001b[38;5;21;01m.\u001b[39;00m\u001b[38;5;21;01mmisc\u001b[39;00m\u001b[38;5;21;01m.\u001b[39;00m\u001b[38;5;21;01msafe_asarray\u001b[39;00m \u001b[38;5;28;01mimport\u001b[39;00m _asarray\n\u001b[0;32m    122\u001b[0m \u001b[38;5;28;01mfrom\u001b[39;00m \u001b[38;5;21;01mtheano\u001b[39;00m\u001b[38;5;21;01m.\u001b[39;00m\u001b[38;5;21;01mprinting\u001b[39;00m \u001b[38;5;28;01mimport\u001b[39;00m pprint, pp\n\u001b[1;32m--> 124\u001b[0m \u001b[38;5;28;01mfrom\u001b[39;00m \u001b[38;5;21;01mtheano\u001b[39;00m\u001b[38;5;21;01m.\u001b[39;00m\u001b[38;5;21;01mscan_module\u001b[39;00m \u001b[38;5;28;01mimport\u001b[39;00m (scan, \u001b[38;5;28mmap\u001b[39m, reduce, foldl, foldr, clone,\n\u001b[0;32m    125\u001b[0m                                 scan_checkpoints)\n\u001b[0;32m    127\u001b[0m \u001b[38;5;28;01mfrom\u001b[39;00m \u001b[38;5;21;01mtheano\u001b[39;00m\u001b[38;5;21;01m.\u001b[39;00m\u001b[38;5;21;01mupdates\u001b[39;00m \u001b[38;5;28;01mimport\u001b[39;00m OrderedUpdates\n\u001b[0;32m    129\u001b[0m \u001b[38;5;66;03m# scan_module import above initializes tensor and scalar making these imports\u001b[39;00m\n\u001b[0;32m    130\u001b[0m \u001b[38;5;66;03m# redundant\u001b[39;00m\n\u001b[0;32m    131\u001b[0m \n\u001b[1;32m   (...)\u001b[0m\n\u001b[0;32m    136\u001b[0m \n\u001b[0;32m    137\u001b[0m \u001b[38;5;66;03m# import sparse\u001b[39;00m\n",
      "File \u001b[1;32m~\\AppData\\Roaming\\Python\\Python311\\site-packages\\theano\\scan_module\\__init__.py:41\u001b[0m\n\u001b[0;32m     38\u001b[0m __copyright__ \u001b[38;5;241m=\u001b[39m \u001b[38;5;124m\"\u001b[39m\u001b[38;5;124m(c) 2010, Universite de Montreal\u001b[39m\u001b[38;5;124m\"\u001b[39m\n\u001b[0;32m     39\u001b[0m __contact__ \u001b[38;5;241m=\u001b[39m \u001b[38;5;124m\"\u001b[39m\u001b[38;5;124mRazvan Pascanu <r.pascanu@gmail>\u001b[39m\u001b[38;5;124m\"\u001b[39m\n\u001b[1;32m---> 41\u001b[0m \u001b[38;5;28;01mfrom\u001b[39;00m \u001b[38;5;21;01mtheano\u001b[39;00m\u001b[38;5;21;01m.\u001b[39;00m\u001b[38;5;21;01mscan_module\u001b[39;00m \u001b[38;5;28;01mimport\u001b[39;00m scan_opt\n\u001b[0;32m     42\u001b[0m \u001b[38;5;28;01mfrom\u001b[39;00m \u001b[38;5;21;01mtheano\u001b[39;00m\u001b[38;5;21;01m.\u001b[39;00m\u001b[38;5;21;01mscan_module\u001b[39;00m\u001b[38;5;21;01m.\u001b[39;00m\u001b[38;5;21;01mscan\u001b[39;00m \u001b[38;5;28;01mimport\u001b[39;00m scan\n\u001b[0;32m     43\u001b[0m \u001b[38;5;28;01mfrom\u001b[39;00m \u001b[38;5;21;01mtheano\u001b[39;00m\u001b[38;5;21;01m.\u001b[39;00m\u001b[38;5;21;01mscan_module\u001b[39;00m\u001b[38;5;21;01m.\u001b[39;00m\u001b[38;5;21;01mscan_checkpoints\u001b[39;00m \u001b[38;5;28;01mimport\u001b[39;00m scan_checkpoints\n",
      "File \u001b[1;32m~\\AppData\\Roaming\\Python\\Python311\\site-packages\\theano\\scan_module\\scan_opt.py:60\u001b[0m\n\u001b[0;32m     57\u001b[0m \u001b[38;5;28;01mimport\u001b[39;00m \u001b[38;5;21;01mnumpy\u001b[39;00m \u001b[38;5;28;01mas\u001b[39;00m \u001b[38;5;21;01mnp\u001b[39;00m\n\u001b[0;32m     59\u001b[0m \u001b[38;5;28;01mimport\u001b[39;00m \u001b[38;5;21;01mtheano\u001b[39;00m\n\u001b[1;32m---> 60\u001b[0m \u001b[38;5;28;01mfrom\u001b[39;00m \u001b[38;5;21;01mtheano\u001b[39;00m \u001b[38;5;28;01mimport\u001b[39;00m tensor, scalar\n\u001b[0;32m     61\u001b[0m \u001b[38;5;28;01mfrom\u001b[39;00m \u001b[38;5;21;01mtheano\u001b[39;00m\u001b[38;5;21;01m.\u001b[39;00m\u001b[38;5;21;01mtensor\u001b[39;00m \u001b[38;5;28;01mimport\u001b[39;00m opt, get_scalar_constant_value, Alloc, AllocEmpty\n\u001b[0;32m     62\u001b[0m \u001b[38;5;28;01mfrom\u001b[39;00m \u001b[38;5;21;01mtheano\u001b[39;00m \u001b[38;5;28;01mimport\u001b[39;00m gof\n",
      "File \u001b[1;32m~\\AppData\\Roaming\\Python\\Python311\\site-packages\\theano\\tensor\\__init__.py:8\u001b[0m\n\u001b[0;32m      4\u001b[0m __docformat__ \u001b[38;5;241m=\u001b[39m \u001b[38;5;124m\"\u001b[39m\u001b[38;5;124mrestructuredtext en\u001b[39m\u001b[38;5;124m\"\u001b[39m\n\u001b[0;32m      6\u001b[0m \u001b[38;5;28;01mimport\u001b[39;00m \u001b[38;5;21;01mwarnings\u001b[39;00m\n\u001b[1;32m----> 8\u001b[0m \u001b[38;5;28;01mfrom\u001b[39;00m \u001b[38;5;21;01mtheano\u001b[39;00m\u001b[38;5;21;01m.\u001b[39;00m\u001b[38;5;21;01mtensor\u001b[39;00m\u001b[38;5;21;01m.\u001b[39;00m\u001b[38;5;21;01mbasic\u001b[39;00m \u001b[38;5;28;01mimport\u001b[39;00m \u001b[38;5;241m*\u001b[39m\n\u001b[0;32m      9\u001b[0m \u001b[38;5;28;01mfrom\u001b[39;00m \u001b[38;5;21;01mtheano\u001b[39;00m\u001b[38;5;21;01m.\u001b[39;00m\u001b[38;5;21;01mtensor\u001b[39;00m\u001b[38;5;21;01m.\u001b[39;00m\u001b[38;5;21;01msubtensor\u001b[39;00m \u001b[38;5;28;01mimport\u001b[39;00m \u001b[38;5;241m*\u001b[39m\n\u001b[0;32m     10\u001b[0m \u001b[38;5;28;01mfrom\u001b[39;00m \u001b[38;5;21;01mtheano\u001b[39;00m\u001b[38;5;21;01m.\u001b[39;00m\u001b[38;5;21;01mtensor\u001b[39;00m\u001b[38;5;21;01m.\u001b[39;00m\u001b[38;5;21;01mtype_other\u001b[39;00m \u001b[38;5;28;01mimport\u001b[39;00m \u001b[38;5;241m*\u001b[39m\n",
      "File \u001b[1;32m~\\AppData\\Roaming\\Python\\Python311\\site-packages\\theano\\tensor\\basic.py:20\u001b[0m\n\u001b[0;32m     17\u001b[0m \u001b[38;5;28;01mfrom\u001b[39;00m \u001b[38;5;21;01mtheano\u001b[39;00m\u001b[38;5;21;01m.\u001b[39;00m\u001b[38;5;21;01mgof\u001b[39;00m \u001b[38;5;28;01mimport\u001b[39;00m Apply, Constant, Op, Variable, ParamsType\n\u001b[0;32m     18\u001b[0m \u001b[38;5;28;01mfrom\u001b[39;00m \u001b[38;5;21;01mtheano\u001b[39;00m\u001b[38;5;21;01m.\u001b[39;00m\u001b[38;5;21;01mgof\u001b[39;00m\u001b[38;5;21;01m.\u001b[39;00m\u001b[38;5;21;01mtype\u001b[39;00m \u001b[38;5;28;01mimport\u001b[39;00m Generic\n\u001b[1;32m---> 20\u001b[0m \u001b[38;5;28;01mfrom\u001b[39;00m \u001b[38;5;21;01mtheano\u001b[39;00m\u001b[38;5;21;01m.\u001b[39;00m\u001b[38;5;21;01mscalar\u001b[39;00m \u001b[38;5;28;01mimport\u001b[39;00m int32 \u001b[38;5;28;01mas\u001b[39;00m int32_t\n\u001b[0;32m     21\u001b[0m \u001b[38;5;28;01mfrom\u001b[39;00m \u001b[38;5;21;01mtheano\u001b[39;00m\u001b[38;5;21;01m.\u001b[39;00m\u001b[38;5;21;01mtensor\u001b[39;00m \u001b[38;5;28;01mimport\u001b[39;00m elemwise\n\u001b[0;32m     22\u001b[0m \u001b[38;5;28;01mfrom\u001b[39;00m \u001b[38;5;21;01mtheano\u001b[39;00m\u001b[38;5;21;01m.\u001b[39;00m\u001b[38;5;21;01mtensor\u001b[39;00m\u001b[38;5;21;01m.\u001b[39;00m\u001b[38;5;21;01mvar\u001b[39;00m \u001b[38;5;28;01mimport\u001b[39;00m (AsTensorError, TensorVariable,\n\u001b[0;32m     23\u001b[0m                                TensorConstant, TensorConstantSignature,\n\u001b[0;32m     24\u001b[0m                                _tensor_py_operators)\n",
      "File \u001b[1;32m~\\AppData\\Roaming\\Python\\Python311\\site-packages\\theano\\scalar\\__init__.py:3\u001b[0m\n\u001b[0;32m      1\u001b[0m \u001b[38;5;28;01mfrom\u001b[39;00m \u001b[38;5;21;01m__future__\u001b[39;00m \u001b[38;5;28;01mimport\u001b[39;00m absolute_import, print_function, division\n\u001b[1;32m----> 3\u001b[0m \u001b[38;5;28;01mfrom\u001b[39;00m \u001b[38;5;21;01m.\u001b[39;00m\u001b[38;5;21;01mbasic\u001b[39;00m \u001b[38;5;28;01mimport\u001b[39;00m \u001b[38;5;241m*\u001b[39m\n\u001b[0;32m      5\u001b[0m \u001b[38;5;28;01mfrom\u001b[39;00m \u001b[38;5;21;01m.\u001b[39;00m\u001b[38;5;21;01mbasic_scipy\u001b[39;00m \u001b[38;5;28;01mimport\u001b[39;00m \u001b[38;5;241m*\u001b[39m\n",
      "File \u001b[1;32m~\\AppData\\Roaming\\Python\\Python311\\site-packages\\theano\\scalar\\basic.py:656\u001b[0m\n\u001b[0;32m    653\u001b[0m         \u001b[38;5;28;01mreturn\u001b[39;00m shape_info\n\u001b[0;32m    655\u001b[0m \u001b[38;5;66;03m# Register C code for ViewOp on Scalars.\u001b[39;00m\n\u001b[1;32m--> 656\u001b[0m theano\u001b[38;5;241m.\u001b[39mcompile\u001b[38;5;241m.\u001b[39mregister_view_op_c_code(\n\u001b[0;32m    657\u001b[0m     Scalar,\n\u001b[0;32m    658\u001b[0m \u001b[38;5;250m    \u001b[39m\u001b[38;5;124;03m\"\"\"\u001b[39;00m\n\u001b[0;32m    659\u001b[0m \u001b[38;5;124;03m    %(oname)s = %(iname)s;\u001b[39;00m\n\u001b[0;32m    660\u001b[0m \u001b[38;5;124;03m    \"\"\"\u001b[39;00m,\n\u001b[0;32m    661\u001b[0m     \u001b[38;5;241m1\u001b[39m)\n\u001b[0;32m    664\u001b[0m \u001b[38;5;28mbool\u001b[39m \u001b[38;5;241m=\u001b[39m get_scalar_type(\u001b[38;5;124m'\u001b[39m\u001b[38;5;124mbool\u001b[39m\u001b[38;5;124m'\u001b[39m)\n\u001b[0;32m    665\u001b[0m int8 \u001b[38;5;241m=\u001b[39m get_scalar_type(\u001b[38;5;124m'\u001b[39m\u001b[38;5;124mint8\u001b[39m\u001b[38;5;124m'\u001b[39m)\n",
      "\u001b[1;31mAttributeError\u001b[0m: partially initialized module 'theano' has no attribute 'compile' (most likely due to a circular import)"
     ]
    }
   ],
   "source": [
    "from theano import function\n",
    "from theano.tensor import T"
   ]
  },
  {
   "cell_type": "code",
   "execution_count": null,
   "metadata": {
    "id": "tPZzuHjF4X9L"
   },
   "outputs": [],
   "source": [
    "# Declaring 2 variables\n",
    "x = T.dscalar('x')\n",
    "y = T.dscalar('y')"
   ]
  },
  {
   "cell_type": "code",
   "execution_count": null,
   "metadata": {
    "id": "On5RWBZ34ZlX"
   },
   "outputs": [],
   "source": [
    "# Summing up the 2 numbers\n",
    "z = x + y"
   ]
  },
  {
   "cell_type": "code",
   "execution_count": 10,
   "metadata": {
    "id": "NFE1tSdW4Z1b"
   },
   "outputs": [
    {
     "ename": "NameError",
     "evalue": "name 'function' is not defined",
     "output_type": "error",
     "traceback": [
      "\u001b[1;31m---------------------------------------------------------------------------\u001b[0m",
      "\u001b[1;31mNameError\u001b[0m                                 Traceback (most recent call last)",
      "Cell \u001b[1;32mIn[10], line 2\u001b[0m\n\u001b[0;32m      1\u001b[0m \u001b[38;5;66;03m# Converting it to a callable object so that it takes matrix as parameters\u001b[39;00m\n\u001b[1;32m----> 2\u001b[0m f \u001b[38;5;241m=\u001b[39m function([x, y], z)\n",
      "\u001b[1;31mNameError\u001b[0m: name 'function' is not defined"
     ]
    }
   ],
   "source": [
    "# Converting it to a callable object so that it takes matrix as parameters\n",
    "f = function([x, y], z)"
   ]
  },
  {
   "cell_type": "code",
   "execution_count": 11,
   "metadata": {
    "colab": {
     "base_uri": "https://localhost:8080/"
    },
    "id": "y4riSHJq4a9V",
    "outputId": "282c297f-a3b1-4500-e213-3fcb86c8f641"
   },
   "outputs": [
    {
     "ename": "NameError",
     "evalue": "name 'f' is not defined",
     "output_type": "error",
     "traceback": [
      "\u001b[1;31m---------------------------------------------------------------------------\u001b[0m",
      "\u001b[1;31mNameError\u001b[0m                                 Traceback (most recent call last)",
      "Cell \u001b[1;32mIn[11], line 1\u001b[0m\n\u001b[1;32m----> 1\u001b[0m f(\u001b[38;5;241m5\u001b[39m, \u001b[38;5;241m7\u001b[39m)\n",
      "\u001b[1;31mNameError\u001b[0m: name 'f' is not defined"
     ]
    }
   ],
   "source": [
    "f(5, 7)"
   ]
  },
  {
   "cell_type": "markdown",
   "metadata": {
    "id": "H9_kUJNe4dlS"
   },
   "source": [
    "**4. PyTorch**"
   ]
  },
  {
   "cell_type": "code",
   "execution_count": 12,
   "metadata": {
    "colab": {
     "base_uri": "https://localhost:8080/"
    },
    "id": "IsiiMMbN4g7I",
    "outputId": "a32ecfcc-a1c5-4a48-a03b-c40c6525d88a"
   },
   "outputs": [
    {
     "name": "stdout",
     "output_type": "stream",
     "text": [
      "Defaulting to user installation because normal site-packages is not writeable\n",
      "Looking in indexes: https://pypi.org/simple, https://download.pytorch.org/whl/cu115\n",
      "Collecting torch\n",
      "  Obtaining dependency information for torch from https://files.pythonhosted.org/packages/74/07/edce54779f5c3fe8ab8390eafad3d7c8190fce68f922a254ea77f4a94a99/torch-2.1.0-cp311-cp311-win_amd64.whl.metadata\n",
      "  Downloading torch-2.1.0-cp311-cp311-win_amd64.whl.metadata (25 kB)\n",
      "Collecting torchvision\n",
      "  Obtaining dependency information for torchvision from https://files.pythonhosted.org/packages/20/ac/ab6f42af83349e679b03c9bb18354740c6b58b17dba329fb408730230584/torchvision-0.16.0-cp311-cp311-win_amd64.whl.metadata\n",
      "  Downloading torchvision-0.16.0-cp311-cp311-win_amd64.whl.metadata (6.6 kB)\n",
      "Collecting torchaudio\n",
      "  Obtaining dependency information for torchaudio from https://files.pythonhosted.org/packages/11/30/715101782513f94c834ebe3afb9a29b0fae1121f64963db9d39fb80da53e/torchaudio-2.1.0-cp311-cp311-win_amd64.whl.metadata\n",
      "  Downloading torchaudio-2.1.0-cp311-cp311-win_amd64.whl.metadata (5.7 kB)\n",
      "Requirement already satisfied: filelock in c:\\programdata\\anaconda3\\lib\\site-packages (from torch) (3.9.0)\n",
      "Requirement already satisfied: typing-extensions in c:\\programdata\\anaconda3\\lib\\site-packages (from torch) (4.7.1)\n",
      "Requirement already satisfied: sympy in c:\\programdata\\anaconda3\\lib\\site-packages (from torch) (1.11.1)\n",
      "Requirement already satisfied: networkx in c:\\programdata\\anaconda3\\lib\\site-packages (from torch) (3.1)\n",
      "Requirement already satisfied: jinja2 in c:\\programdata\\anaconda3\\lib\\site-packages (from torch) (3.1.2)\n",
      "Requirement already satisfied: fsspec in c:\\programdata\\anaconda3\\lib\\site-packages (from torch) (2023.3.0)\n",
      "Requirement already satisfied: numpy in c:\\programdata\\anaconda3\\lib\\site-packages (from torchvision) (1.24.3)\n",
      "Requirement already satisfied: requests in c:\\programdata\\anaconda3\\lib\\site-packages (from torchvision) (2.31.0)\n",
      "Requirement already satisfied: pillow!=8.3.*,>=5.3.0 in c:\\programdata\\anaconda3\\lib\\site-packages (from torchvision) (9.4.0)\n",
      "Requirement already satisfied: MarkupSafe>=2.0 in c:\\programdata\\anaconda3\\lib\\site-packages (from jinja2->torch) (2.1.1)\n",
      "Requirement already satisfied: charset-normalizer<4,>=2 in c:\\programdata\\anaconda3\\lib\\site-packages (from requests->torchvision) (2.0.4)\n",
      "Requirement already satisfied: idna<4,>=2.5 in c:\\programdata\\anaconda3\\lib\\site-packages (from requests->torchvision) (3.4)\n",
      "Requirement already satisfied: urllib3<3,>=1.21.1 in c:\\programdata\\anaconda3\\lib\\site-packages (from requests->torchvision) (1.26.16)\n",
      "Requirement already satisfied: certifi>=2017.4.17 in c:\\programdata\\anaconda3\\lib\\site-packages (from requests->torchvision) (2023.7.22)\n",
      "Requirement already satisfied: mpmath>=0.19 in c:\\programdata\\anaconda3\\lib\\site-packages (from sympy->torch) (1.3.0)\n",
      "Downloading torch-2.1.0-cp311-cp311-win_amd64.whl (192.3 MB)\n",
      "   ---------------------------------------- 0.0/192.3 MB ? eta -:--:--\n",
      "   ---------------------------------------- 0.1/192.3 MB 1.7 MB/s eta 0:01:51\n",
      "   ---------------------------------------- 0.2/192.3 MB 1.9 MB/s eta 0:01:43\n",
      "   ---------------------------------------- 0.2/192.3 MB 1.5 MB/s eta 0:02:06\n",
      "   ---------------------------------------- 0.3/192.3 MB 1.8 MB/s eta 0:01:45\n",
      "   ---------------------------------------- 0.5/192.3 MB 2.2 MB/s eta 0:01:29\n",
      "   ---------------------------------------- 0.7/192.3 MB 2.3 MB/s eta 0:01:23\n",
      "   ---------------------------------------- 0.9/192.3 MB 2.7 MB/s eta 0:01:11\n",
      "   ---------------------------------------- 1.0/192.3 MB 2.9 MB/s eta 0:01:08\n",
      "   ---------------------------------------- 1.1/192.3 MB 2.8 MB/s eta 0:01:09\n",
      "   ---------------------------------------- 1.2/192.3 MB 2.8 MB/s eta 0:01:08\n",
      "   ---------------------------------------- 1.3/192.3 MB 2.6 MB/s eta 0:01:14\n",
      "   ---------------------------------------- 1.4/192.3 MB 2.5 MB/s eta 0:01:16\n",
      "   ---------------------------------------- 1.4/192.3 MB 2.3 MB/s eta 0:01:24\n",
      "   ---------------------------------------- 1.5/192.3 MB 2.3 MB/s eta 0:01:25\n",
      "   ---------------------------------------- 1.5/192.3 MB 2.2 MB/s eta 0:01:29\n",
      "   ---------------------------------------- 1.6/192.3 MB 2.2 MB/s eta 0:01:28\n",
      "   ---------------------------------------- 1.7/192.3 MB 2.2 MB/s eta 0:01:28\n",
      "   ---------------------------------------- 2.0/192.3 MB 2.4 MB/s eta 0:01:21\n",
      "   ---------------------------------------- 2.1/192.3 MB 2.4 MB/s eta 0:01:19\n",
      "   ---------------------------------------- 2.4/192.3 MB 2.5 MB/s eta 0:01:15\n",
      "    --------------------------------------- 2.5/192.3 MB 2.6 MB/s eta 0:01:13\n",
      "    --------------------------------------- 2.7/192.3 MB 2.6 MB/s eta 0:01:13\n",
      "    --------------------------------------- 2.8/192.3 MB 2.6 MB/s eta 0:01:13\n",
      "    --------------------------------------- 2.8/192.3 MB 2.6 MB/s eta 0:01:15\n",
      "    --------------------------------------- 2.9/192.3 MB 2.5 MB/s eta 0:01:17\n",
      "    --------------------------------------- 2.9/192.3 MB 2.5 MB/s eta 0:01:17\n",
      "    --------------------------------------- 3.0/192.3 MB 2.4 MB/s eta 0:01:19\n",
      "    --------------------------------------- 3.1/192.3 MB 2.4 MB/s eta 0:01:18\n",
      "    --------------------------------------- 3.2/192.3 MB 2.4 MB/s eta 0:01:20\n",
      "    --------------------------------------- 3.4/192.3 MB 2.4 MB/s eta 0:01:19\n",
      "    --------------------------------------- 3.5/192.3 MB 2.5 MB/s eta 0:01:17\n",
      "    --------------------------------------- 3.6/192.3 MB 2.4 MB/s eta 0:01:18\n",
      "    --------------------------------------- 3.7/192.3 MB 2.4 MB/s eta 0:01:18\n",
      "    --------------------------------------- 4.0/192.3 MB 2.5 MB/s eta 0:01:15\n",
      "    --------------------------------------- 4.2/192.3 MB 2.6 MB/s eta 0:01:14\n",
      "    --------------------------------------- 4.3/192.3 MB 2.6 MB/s eta 0:01:13\n",
      "    --------------------------------------- 4.4/192.3 MB 2.6 MB/s eta 0:01:13\n",
      "    --------------------------------------- 4.5/192.3 MB 2.6 MB/s eta 0:01:13\n",
      "    --------------------------------------- 4.6/192.3 MB 2.6 MB/s eta 0:01:14\n",
      "    --------------------------------------- 4.8/192.3 MB 2.6 MB/s eta 0:01:13\n",
      "   - -------------------------------------- 4.8/192.3 MB 2.6 MB/s eta 0:01:14\n",
      "   - -------------------------------------- 4.9/192.3 MB 2.5 MB/s eta 0:01:14\n",
      "   - -------------------------------------- 5.0/192.3 MB 2.5 MB/s eta 0:01:15\n",
      "   - -------------------------------------- 5.1/192.3 MB 2.5 MB/s eta 0:01:15\n",
      "   - -------------------------------------- 5.1/192.3 MB 2.5 MB/s eta 0:01:15\n",
      "   - -------------------------------------- 5.3/192.3 MB 2.5 MB/s eta 0:01:15\n",
      "   - -------------------------------------- 5.4/192.3 MB 2.5 MB/s eta 0:01:16\n",
      "   - -------------------------------------- 5.6/192.3 MB 2.5 MB/s eta 0:01:15\n",
      "   - -------------------------------------- 5.8/192.3 MB 2.6 MB/s eta 0:01:13\n",
      "   - -------------------------------------- 6.0/192.3 MB 2.6 MB/s eta 0:01:13\n",
      "   - -------------------------------------- 6.1/192.3 MB 2.6 MB/s eta 0:01:13\n",
      "   - -------------------------------------- 6.2/192.3 MB 2.6 MB/s eta 0:01:13\n",
      "   - -------------------------------------- 6.2/192.3 MB 2.5 MB/s eta 0:01:14\n",
      "   - -------------------------------------- 6.3/192.3 MB 2.5 MB/s eta 0:01:14\n",
      "   - -------------------------------------- 6.4/192.3 MB 2.5 MB/s eta 0:01:14\n",
      "   - -------------------------------------- 6.5/192.3 MB 2.5 MB/s eta 0:01:15\n",
      "   - -------------------------------------- 6.5/192.3 MB 2.5 MB/s eta 0:01:16\n",
      "   - -------------------------------------- 6.8/192.3 MB 2.5 MB/s eta 0:01:14\n",
      "   - -------------------------------------- 7.0/192.3 MB 2.6 MB/s eta 0:01:13\n",
      "   - -------------------------------------- 7.3/192.3 MB 2.6 MB/s eta 0:01:11\n",
      "   - -------------------------------------- 7.5/192.3 MB 2.7 MB/s eta 0:01:10\n",
      "   - -------------------------------------- 7.8/192.3 MB 2.7 MB/s eta 0:01:09\n",
      "   - -------------------------------------- 8.0/192.3 MB 2.7 MB/s eta 0:01:08\n",
      "   - -------------------------------------- 8.2/192.3 MB 2.8 MB/s eta 0:01:07\n",
      "   - -------------------------------------- 8.5/192.3 MB 2.8 MB/s eta 0:01:06\n",
      "   - -------------------------------------- 8.7/192.3 MB 2.8 MB/s eta 0:01:05\n",
      "   - -------------------------------------- 9.0/192.3 MB 2.9 MB/s eta 0:01:04\n",
      "   - -------------------------------------- 9.2/192.3 MB 2.9 MB/s eta 0:01:04\n",
      "   - -------------------------------------- 9.4/192.3 MB 2.9 MB/s eta 0:01:03\n",
      "   - -------------------------------------- 9.6/192.3 MB 3.0 MB/s eta 0:01:02\n",
      "   -- ------------------------------------- 9.8/192.3 MB 3.0 MB/s eta 0:01:02\n",
      "   -- ------------------------------------- 10.1/192.3 MB 3.0 MB/s eta 0:01:01\n",
      "   -- ------------------------------------- 10.3/192.3 MB 3.1 MB/s eta 0:01:00\n",
      "   -- ------------------------------------- 10.5/192.3 MB 3.1 MB/s eta 0:00:59\n",
      "   -- ------------------------------------- 10.8/192.3 MB 3.2 MB/s eta 0:00:58\n",
      "   -- ------------------------------------- 11.0/192.3 MB 3.2 MB/s eta 0:00:58\n",
      "   -- ------------------------------------- 11.2/192.3 MB 3.2 MB/s eta 0:00:57\n",
      "   -- ------------------------------------- 11.5/192.3 MB 3.3 MB/s eta 0:00:56\n",
      "   -- ------------------------------------- 11.7/192.3 MB 3.4 MB/s eta 0:00:53\n",
      "   -- ------------------------------------- 12.0/192.3 MB 3.5 MB/s eta 0:00:52\n",
      "   -- ------------------------------------- 12.2/192.3 MB 3.5 MB/s eta 0:00:52\n",
      "   -- ------------------------------------- 12.5/192.3 MB 3.5 MB/s eta 0:00:51\n",
      "   -- ------------------------------------- 12.7/192.3 MB 3.5 MB/s eta 0:00:51\n",
      "   -- ------------------------------------- 13.0/192.3 MB 3.6 MB/s eta 0:00:50\n",
      "   -- ------------------------------------- 13.2/192.3 MB 3.8 MB/s eta 0:00:48\n",
      "   -- ------------------------------------- 13.5/192.3 MB 3.9 MB/s eta 0:00:47\n",
      "   -- ------------------------------------- 13.7/192.3 MB 3.9 MB/s eta 0:00:46\n",
      "   -- ------------------------------------- 14.0/192.3 MB 4.0 MB/s eta 0:00:45\n",
      "   -- ------------------------------------- 14.2/192.3 MB 4.0 MB/s eta 0:00:45\n",
      "   -- ------------------------------------- 14.3/192.3 MB 4.0 MB/s eta 0:00:45\n",
      "   --- ------------------------------------ 14.5/192.3 MB 4.0 MB/s eta 0:00:45\n",
      "   --- ------------------------------------ 14.7/192.3 MB 4.0 MB/s eta 0:00:45\n",
      "   --- ------------------------------------ 15.0/192.3 MB 4.1 MB/s eta 0:00:43\n",
      "   --- ------------------------------------ 15.2/192.3 MB 4.3 MB/s eta 0:00:42\n",
      "   --- ------------------------------------ 15.4/192.3 MB 4.5 MB/s eta 0:00:40\n",
      "   --- ------------------------------------ 15.7/192.3 MB 4.5 MB/s eta 0:00:39\n",
      "   --- ------------------------------------ 15.9/192.3 MB 4.5 MB/s eta 0:00:39\n",
      "   --- ------------------------------------ 16.2/192.3 MB 4.6 MB/s eta 0:00:39\n",
      "   --- ------------------------------------ 16.3/192.3 MB 4.6 MB/s eta 0:00:39\n",
      "   --- ------------------------------------ 16.4/192.3 MB 4.7 MB/s eta 0:00:38\n",
      "   --- ------------------------------------ 16.6/192.3 MB 4.8 MB/s eta 0:00:37\n",
      "   --- ------------------------------------ 16.9/192.3 MB 5.0 MB/s eta 0:00:36\n",
      "   --- ------------------------------------ 17.1/192.3 MB 5.0 MB/s eta 0:00:36\n",
      "   --- ------------------------------------ 17.5/192.3 MB 5.0 MB/s eta 0:00:36\n",
      "   --- ------------------------------------ 17.9/192.3 MB 5.0 MB/s eta 0:00:35\n",
      "   --- ------------------------------------ 17.9/192.3 MB 5.0 MB/s eta 0:00:35\n",
      "   --- ------------------------------------ 18.2/192.3 MB 5.0 MB/s eta 0:00:35\n",
      "   --- ------------------------------------ 18.5/192.3 MB 5.0 MB/s eta 0:00:35\n",
      "   --- ------------------------------------ 18.8/192.3 MB 5.1 MB/s eta 0:00:35\n",
      "   --- ------------------------------------ 19.2/192.3 MB 5.2 MB/s eta 0:00:34\n",
      "   ---- ----------------------------------- 19.4/192.3 MB 5.2 MB/s eta 0:00:34\n",
      "   ---- ----------------------------------- 19.6/192.3 MB 5.2 MB/s eta 0:00:34\n",
      "   ---- ----------------------------------- 19.8/192.3 MB 5.1 MB/s eta 0:00:34\n",
      "   ---- ----------------------------------- 20.3/192.3 MB 5.2 MB/s eta 0:00:33\n",
      "   ---- ----------------------------------- 20.4/192.3 MB 5.3 MB/s eta 0:00:33\n",
      "   ---- ----------------------------------- 20.4/192.3 MB 5.3 MB/s eta 0:00:33\n",
      "   ---- ----------------------------------- 20.6/192.3 MB 5.1 MB/s eta 0:00:34\n",
      "   ---- ----------------------------------- 21.7/192.3 MB 5.5 MB/s eta 0:00:32\n",
      "   ---- ----------------------------------- 22.1/192.3 MB 5.6 MB/s eta 0:00:31\n",
      "   ---- ----------------------------------- 22.6/192.3 MB 5.7 MB/s eta 0:00:30\n",
      "   ---- ----------------------------------- 23.0/192.3 MB 5.8 MB/s eta 0:00:29\n",
      "   ---- ----------------------------------- 23.5/192.3 MB 6.0 MB/s eta 0:00:29\n",
      "   ---- ----------------------------------- 23.9/192.3 MB 6.1 MB/s eta 0:00:28\n",
      "   ----- ---------------------------------- 24.4/192.3 MB 6.3 MB/s eta 0:00:27\n",
      "   ----- ---------------------------------- 24.9/192.3 MB 6.6 MB/s eta 0:00:26\n",
      "   ----- ---------------------------------- 25.3/192.3 MB 6.8 MB/s eta 0:00:25\n",
      "   ----- ---------------------------------- 25.8/192.3 MB 7.0 MB/s eta 0:00:24\n",
      "   ----- ---------------------------------- 26.2/192.3 MB 7.2 MB/s eta 0:00:24\n",
      "   ----- ---------------------------------- 26.6/192.3 MB 7.5 MB/s eta 0:00:23\n",
      "   ----- ---------------------------------- 26.9/192.3 MB 7.7 MB/s eta 0:00:22\n",
      "   ----- ---------------------------------- 27.1/192.3 MB 7.6 MB/s eta 0:00:22\n",
      "   ----- ---------------------------------- 27.6/192.3 MB 7.8 MB/s eta 0:00:22\n",
      "   ----- ---------------------------------- 28.1/192.3 MB 7.9 MB/s eta 0:00:21\n",
      "   ----- ---------------------------------- 28.5/192.3 MB 8.2 MB/s eta 0:00:21\n",
      "   ------ --------------------------------- 28.9/192.3 MB 8.3 MB/s eta 0:00:20\n",
      "   ------ --------------------------------- 29.1/192.3 MB 8.2 MB/s eta 0:00:20\n",
      "   ------ --------------------------------- 29.5/192.3 MB 8.3 MB/s eta 0:00:20\n",
      "   ------ --------------------------------- 29.8/192.3 MB 8.3 MB/s eta 0:00:20\n",
      "   ------ --------------------------------- 30.1/192.3 MB 8.6 MB/s eta 0:00:19\n",
      "   ------ --------------------------------- 30.5/192.3 MB 8.4 MB/s eta 0:00:20\n",
      "   ------ --------------------------------- 30.9/192.3 MB 9.2 MB/s eta 0:00:18\n",
      "   ------ --------------------------------- 31.4/192.3 MB 8.8 MB/s eta 0:00:19\n",
      "   ------ --------------------------------- 31.6/192.3 MB 8.8 MB/s eta 0:00:19\n",
      "   ------ --------------------------------- 32.0/192.3 MB 8.7 MB/s eta 0:00:19\n",
      "   ------ --------------------------------- 32.3/192.3 MB 8.5 MB/s eta 0:00:19\n",
      "   ------ --------------------------------- 32.6/192.3 MB 8.5 MB/s eta 0:00:19\n",
      "   ------ --------------------------------- 32.8/192.3 MB 8.3 MB/s eta 0:00:20\n",
      "   ------ --------------------------------- 33.1/192.3 MB 8.1 MB/s eta 0:00:20\n",
      "   ------ --------------------------------- 33.5/192.3 MB 8.0 MB/s eta 0:00:20\n",
      "   ------- -------------------------------- 34.0/192.3 MB 8.1 MB/s eta 0:00:20\n",
      "   ------- -------------------------------- 34.4/192.3 MB 8.1 MB/s eta 0:00:20\n",
      "   ------- -------------------------------- 34.9/192.3 MB 8.1 MB/s eta 0:00:20\n",
      "   ------- -------------------------------- 35.3/192.3 MB 8.1 MB/s eta 0:00:20\n",
      "   ------- -------------------------------- 35.8/192.3 MB 8.1 MB/s eta 0:00:20\n",
      "   ------- -------------------------------- 36.0/192.3 MB 8.0 MB/s eta 0:00:20\n",
      "   ------- -------------------------------- 36.4/192.3 MB 7.9 MB/s eta 0:00:20\n",
      "   ------- -------------------------------- 36.6/192.3 MB 7.8 MB/s eta 0:00:20\n",
      "   ------- -------------------------------- 36.7/192.3 MB 7.6 MB/s eta 0:00:21\n",
      "   ------- -------------------------------- 37.0/192.3 MB 7.4 MB/s eta 0:00:21\n",
      "   ------- -------------------------------- 37.4/192.3 MB 7.7 MB/s eta 0:00:21\n",
      "   ------- -------------------------------- 37.7/192.3 MB 7.5 MB/s eta 0:00:21\n",
      "   ------- -------------------------------- 37.9/192.3 MB 7.5 MB/s eta 0:00:21\n",
      "   ------- -------------------------------- 38.0/192.3 MB 7.3 MB/s eta 0:00:22\n",
      "   ------- -------------------------------- 38.1/192.3 MB 7.0 MB/s eta 0:00:22\n",
      "   ------- -------------------------------- 38.2/192.3 MB 6.9 MB/s eta 0:00:23\n",
      "   ------- -------------------------------- 38.5/192.3 MB 6.7 MB/s eta 0:00:23\n",
      "   -------- ------------------------------- 38.7/192.3 MB 6.7 MB/s eta 0:00:24\n",
      "   -------- ------------------------------- 38.8/192.3 MB 6.6 MB/s eta 0:00:24\n",
      "   -------- ------------------------------- 38.8/192.3 MB 6.6 MB/s eta 0:00:24\n",
      "   -------- ------------------------------- 39.1/192.3 MB 6.2 MB/s eta 0:00:25\n",
      "   -------- ------------------------------- 39.5/192.3 MB 6.4 MB/s eta 0:00:25\n",
      "   -------- ------------------------------- 39.7/192.3 MB 6.4 MB/s eta 0:00:24\n",
      "   -------- ------------------------------- 39.7/192.3 MB 6.4 MB/s eta 0:00:24\n",
      "   -------- ------------------------------- 40.5/192.3 MB 6.4 MB/s eta 0:00:24\n",
      "   -------- ------------------------------- 40.8/192.3 MB 6.4 MB/s eta 0:00:24\n",
      "   -------- ------------------------------- 41.2/192.3 MB 6.4 MB/s eta 0:00:24\n",
      "   -------- ------------------------------- 41.6/192.3 MB 6.4 MB/s eta 0:00:24\n",
      "   -------- ------------------------------- 42.0/192.3 MB 6.4 MB/s eta 0:00:24\n",
      "   -------- ------------------------------- 42.4/192.3 MB 6.4 MB/s eta 0:00:24\n",
      "   -------- ------------------------------- 42.8/192.3 MB 6.4 MB/s eta 0:00:24\n",
      "   -------- ------------------------------- 43.2/192.3 MB 6.7 MB/s eta 0:00:23\n",
      "   --------- ------------------------------ 43.6/192.3 MB 6.7 MB/s eta 0:00:23\n",
      "   --------- ------------------------------ 44.1/192.3 MB 6.7 MB/s eta 0:00:23\n",
      "   --------- ------------------------------ 44.5/192.3 MB 6.7 MB/s eta 0:00:23\n",
      "   --------- ------------------------------ 44.9/192.3 MB 6.6 MB/s eta 0:00:23\n",
      "   --------- ------------------------------ 45.4/192.3 MB 6.6 MB/s eta 0:00:23\n",
      "   --------- ------------------------------ 45.7/192.3 MB 6.5 MB/s eta 0:00:23\n",
      "   --------- ------------------------------ 46.2/192.3 MB 6.6 MB/s eta 0:00:23\n",
      "   --------- ------------------------------ 46.6/192.3 MB 6.7 MB/s eta 0:00:22\n",
      "   --------- ------------------------------ 47.0/192.3 MB 7.0 MB/s eta 0:00:21\n",
      "   --------- ------------------------------ 47.5/192.3 MB 7.0 MB/s eta 0:00:21\n",
      "   --------- ------------------------------ 47.8/192.3 MB 7.0 MB/s eta 0:00:21\n",
      "   ---------- ----------------------------- 48.1/192.3 MB 7.2 MB/s eta 0:00:21\n",
      "   ---------- ----------------------------- 48.6/192.3 MB 7.8 MB/s eta 0:00:19\n",
      "   ---------- ----------------------------- 49.0/192.3 MB 8.1 MB/s eta 0:00:18\n",
      "   ---------- ----------------------------- 49.3/192.3 MB 8.5 MB/s eta 0:00:17\n",
      "   ---------- ----------------------------- 49.9/192.3 MB 8.5 MB/s eta 0:00:17\n",
      "   ---------- ----------------------------- 50.3/192.3 MB 9.0 MB/s eta 0:00:16\n",
      "   ---------- ----------------------------- 50.7/192.3 MB 8.7 MB/s eta 0:00:17\n",
      "   ---------- ----------------------------- 51.1/192.3 MB 8.8 MB/s eta 0:00:16\n",
      "   ---------- ----------------------------- 51.6/192.3 MB 8.8 MB/s eta 0:00:16\n",
      "   ---------- ----------------------------- 52.0/192.3 MB 9.0 MB/s eta 0:00:16\n",
      "   ---------- ----------------------------- 52.4/192.3 MB 9.0 MB/s eta 0:00:16\n",
      "   ---------- ----------------------------- 52.7/192.3 MB 8.8 MB/s eta 0:00:16\n",
      "   ----------- ---------------------------- 52.9/192.3 MB 8.7 MB/s eta 0:00:16\n",
      "   ----------- ---------------------------- 53.4/192.3 MB 8.7 MB/s eta 0:00:16\n",
      "   ----------- ---------------------------- 53.7/192.3 MB 8.6 MB/s eta 0:00:17\n",
      "   ----------- ---------------------------- 54.1/192.3 MB 8.7 MB/s eta 0:00:16\n",
      "   ----------- ---------------------------- 54.2/192.3 MB 8.4 MB/s eta 0:00:17\n",
      "   ----------- ---------------------------- 54.2/192.3 MB 8.2 MB/s eta 0:00:17\n",
      "   ----------- ---------------------------- 54.3/192.3 MB 8.0 MB/s eta 0:00:18\n",
      "   ----------- ---------------------------- 54.5/192.3 MB 7.6 MB/s eta 0:00:19\n",
      "   ----------- ---------------------------- 54.6/192.3 MB 7.4 MB/s eta 0:00:19\n",
      "   ----------- ---------------------------- 54.8/192.3 MB 7.3 MB/s eta 0:00:19\n",
      "   ----------- ---------------------------- 55.0/192.3 MB 7.3 MB/s eta 0:00:19\n",
      "   ----------- ---------------------------- 55.1/192.3 MB 7.1 MB/s eta 0:00:20\n",
      "   ----------- ---------------------------- 55.3/192.3 MB 7.0 MB/s eta 0:00:20\n",
      "   ----------- ---------------------------- 55.7/192.3 MB 7.0 MB/s eta 0:00:20\n",
      "   ----------- ---------------------------- 56.1/192.3 MB 7.0 MB/s eta 0:00:20\n",
      "   ----------- ---------------------------- 56.2/192.3 MB 6.8 MB/s eta 0:00:20\n",
      "   ----------- ---------------------------- 56.4/192.3 MB 6.7 MB/s eta 0:00:21\n",
      "   ----------- ---------------------------- 56.5/192.3 MB 6.5 MB/s eta 0:00:21\n",
      "   ----------- ---------------------------- 56.7/192.3 MB 6.4 MB/s eta 0:00:22\n",
      "   ----------- ---------------------------- 56.9/192.3 MB 6.4 MB/s eta 0:00:22\n",
      "   ----------- ---------------------------- 57.2/192.3 MB 6.3 MB/s eta 0:00:22\n",
      "   ----------- ---------------------------- 57.4/192.3 MB 6.2 MB/s eta 0:00:22\n",
      "   ----------- ---------------------------- 57.7/192.3 MB 6.1 MB/s eta 0:00:23\n",
      "   ------------ --------------------------- 57.7/192.3 MB 6.0 MB/s eta 0:00:23\n",
      "   ------------ --------------------------- 57.8/192.3 MB 5.9 MB/s eta 0:00:23\n",
      "   ------------ --------------------------- 58.0/192.3 MB 5.7 MB/s eta 0:00:24\n",
      "   ------------ --------------------------- 58.2/192.3 MB 5.7 MB/s eta 0:00:24\n",
      "   ------------ --------------------------- 58.3/192.3 MB 5.6 MB/s eta 0:00:24\n",
      "   ------------ --------------------------- 58.4/192.3 MB 5.5 MB/s eta 0:00:25\n",
      "   ------------ --------------------------- 58.5/192.3 MB 5.4 MB/s eta 0:00:25\n",
      "   ------------ --------------------------- 58.6/192.3 MB 5.4 MB/s eta 0:00:25\n",
      "   ------------ --------------------------- 58.6/192.3 MB 5.4 MB/s eta 0:00:25\n",
      "   ------------ --------------------------- 58.6/192.3 MB 5.4 MB/s eta 0:00:25\n",
      "   ------------ --------------------------- 58.6/192.3 MB 5.4 MB/s eta 0:00:25\n",
      "   ------------ --------------------------- 59.1/192.3 MB 4.9 MB/s eta 0:00:28\n",
      "   ------------ --------------------------- 59.8/192.3 MB 5.0 MB/s eta 0:00:27\n",
      "   ------------ --------------------------- 60.1/192.3 MB 5.0 MB/s eta 0:00:27\n",
      "   ------------ --------------------------- 60.3/192.3 MB 5.0 MB/s eta 0:00:27\n",
      "   ------------ --------------------------- 60.6/192.3 MB 4.9 MB/s eta 0:00:27\n",
      "   ------------ --------------------------- 60.8/192.3 MB 4.8 MB/s eta 0:00:28\n",
      "   ------------ --------------------------- 61.1/192.3 MB 4.8 MB/s eta 0:00:28\n",
      "   ------------ --------------------------- 61.4/192.3 MB 4.8 MB/s eta 0:00:28\n",
      "   ------------ --------------------------- 61.6/192.3 MB 4.7 MB/s eta 0:00:28\n",
      "   ------------ --------------------------- 61.9/192.3 MB 4.7 MB/s eta 0:00:28\n",
      "   ------------ --------------------------- 62.1/192.3 MB 4.6 MB/s eta 0:00:29\n",
      "   ------------ --------------------------- 62.4/192.3 MB 4.6 MB/s eta 0:00:29\n",
      "   ------------- -------------------------- 62.6/192.3 MB 4.6 MB/s eta 0:00:29\n",
      "   ------------- -------------------------- 62.8/192.3 MB 4.6 MB/s eta 0:00:29\n",
      "   ------------- -------------------------- 63.1/192.3 MB 4.6 MB/s eta 0:00:29\n",
      "   ------------- -------------------------- 63.3/192.3 MB 4.5 MB/s eta 0:00:29\n",
      "   ------------- -------------------------- 63.5/192.3 MB 4.5 MB/s eta 0:00:29\n",
      "   ------------- -------------------------- 63.8/192.3 MB 4.5 MB/s eta 0:00:29\n",
      "   ------------- -------------------------- 64.1/192.3 MB 4.5 MB/s eta 0:00:29\n",
      "   ------------- -------------------------- 64.3/192.3 MB 4.5 MB/s eta 0:00:29\n",
      "   ------------- -------------------------- 64.6/192.3 MB 4.6 MB/s eta 0:00:28\n",
      "   ------------- -------------------------- 64.8/192.3 MB 4.7 MB/s eta 0:00:28\n",
      "   ------------- -------------------------- 64.9/192.3 MB 4.7 MB/s eta 0:00:28\n",
      "   ------------- -------------------------- 65.2/192.3 MB 4.6 MB/s eta 0:00:28\n",
      "   ------------- -------------------------- 65.4/192.3 MB 4.7 MB/s eta 0:00:27\n",
      "   ------------- -------------------------- 65.7/192.3 MB 4.7 MB/s eta 0:00:27\n",
      "   ------------- -------------------------- 65.8/192.3 MB 4.7 MB/s eta 0:00:28\n",
      "   ------------- -------------------------- 66.0/192.3 MB 4.6 MB/s eta 0:00:28\n",
      "   ------------- -------------------------- 66.3/192.3 MB 4.6 MB/s eta 0:00:28\n",
      "   ------------- -------------------------- 66.5/192.3 MB 4.7 MB/s eta 0:00:27\n",
      "   ------------- -------------------------- 66.8/192.3 MB 4.7 MB/s eta 0:00:27\n",
      "   ------------- -------------------------- 67.0/192.3 MB 4.7 MB/s eta 0:00:27\n",
      "   ------------- -------------------------- 67.2/192.3 MB 4.7 MB/s eta 0:00:27\n",
      "   -------------- ------------------------- 67.4/192.3 MB 4.7 MB/s eta 0:00:27\n",
      "   -------------- ------------------------- 67.6/192.3 MB 4.6 MB/s eta 0:00:27\n",
      "   -------------- ------------------------- 67.8/192.3 MB 4.6 MB/s eta 0:00:27\n",
      "   -------------- ------------------------- 68.0/192.3 MB 4.8 MB/s eta 0:00:27\n",
      "   -------------- ------------------------- 68.2/192.3 MB 4.8 MB/s eta 0:00:26\n",
      "   -------------- ------------------------- 68.4/192.3 MB 4.8 MB/s eta 0:00:26\n",
      "   -------------- ------------------------- 68.6/192.3 MB 4.9 MB/s eta 0:00:26\n",
      "   -------------- ------------------------- 68.8/192.3 MB 4.9 MB/s eta 0:00:26\n",
      "   -------------- ------------------------- 69.1/192.3 MB 5.3 MB/s eta 0:00:24\n",
      "   -------------- ------------------------- 69.4/192.3 MB 5.3 MB/s eta 0:00:24\n",
      "   -------------- ------------------------- 69.6/192.3 MB 5.2 MB/s eta 0:00:24\n",
      "   -------------- ------------------------- 69.8/192.3 MB 5.1 MB/s eta 0:00:25\n",
      "   -------------- ------------------------- 70.0/192.3 MB 5.0 MB/s eta 0:00:25\n",
      "   -------------- ------------------------- 70.3/192.3 MB 5.0 MB/s eta 0:00:25\n",
      "   -------------- ------------------------- 70.5/192.3 MB 5.0 MB/s eta 0:00:25\n",
      "   -------------- ------------------------- 70.7/192.3 MB 5.0 MB/s eta 0:00:25\n",
      "   -------------- ------------------------- 71.0/192.3 MB 5.0 MB/s eta 0:00:25\n",
      "   -------------- ------------------------- 71.2/192.3 MB 5.0 MB/s eta 0:00:25\n",
      "   -------------- ------------------------- 71.4/192.3 MB 5.0 MB/s eta 0:00:25\n",
      "   -------------- ------------------------- 71.6/192.3 MB 4.9 MB/s eta 0:00:25\n",
      "   -------------- ------------------------- 71.9/192.3 MB 4.9 MB/s eta 0:00:25\n",
      "   --------------- ------------------------ 72.2/192.3 MB 5.0 MB/s eta 0:00:25\n",
      "   --------------- ------------------------ 72.4/192.3 MB 5.0 MB/s eta 0:00:25\n",
      "   --------------- ------------------------ 72.7/192.3 MB 4.9 MB/s eta 0:00:25\n",
      "   --------------- ------------------------ 72.9/192.3 MB 4.9 MB/s eta 0:00:25\n",
      "   --------------- ------------------------ 73.2/192.3 MB 5.0 MB/s eta 0:00:25\n",
      "   --------------- ------------------------ 73.4/192.3 MB 5.0 MB/s eta 0:00:24\n",
      "   --------------- ------------------------ 73.7/192.3 MB 5.0 MB/s eta 0:00:24\n",
      "   --------------- ------------------------ 73.9/192.3 MB 5.0 MB/s eta 0:00:24\n",
      "   --------------- ------------------------ 74.2/192.3 MB 5.0 MB/s eta 0:00:24\n",
      "   --------------- ------------------------ 74.4/192.3 MB 5.0 MB/s eta 0:00:24\n",
      "   --------------- ------------------------ 74.7/192.3 MB 5.0 MB/s eta 0:00:24\n",
      "   --------------- ------------------------ 74.9/192.3 MB 5.0 MB/s eta 0:00:24\n",
      "   --------------- ------------------------ 75.2/192.3 MB 5.0 MB/s eta 0:00:24\n",
      "   --------------- ------------------------ 75.5/192.3 MB 5.0 MB/s eta 0:00:24\n",
      "   --------------- ------------------------ 75.7/192.3 MB 5.0 MB/s eta 0:00:24\n",
      "   --------------- ------------------------ 76.1/192.3 MB 5.2 MB/s eta 0:00:23\n",
      "   --------------- ------------------------ 76.5/192.3 MB 5.2 MB/s eta 0:00:23\n",
      "   --------------- ------------------------ 76.8/192.3 MB 5.2 MB/s eta 0:00:23\n",
      "   ---------------- ----------------------- 77.1/192.3 MB 5.3 MB/s eta 0:00:22\n",
      "   ---------------- ----------------------- 77.5/192.3 MB 5.4 MB/s eta 0:00:22\n",
      "   ---------------- ----------------------- 77.9/192.3 MB 5.5 MB/s eta 0:00:21\n",
      "   ---------------- ----------------------- 78.2/192.3 MB 5.6 MB/s eta 0:00:21\n",
      "   ---------------- ----------------------- 78.6/192.3 MB 5.7 MB/s eta 0:00:20\n",
      "   ---------------- ----------------------- 78.9/192.3 MB 5.8 MB/s eta 0:00:20\n",
      "   ---------------- ----------------------- 79.2/192.3 MB 5.8 MB/s eta 0:00:20\n",
      "   ---------------- ----------------------- 79.6/192.3 MB 6.0 MB/s eta 0:00:19\n",
      "   ---------------- ----------------------- 80.0/192.3 MB 6.1 MB/s eta 0:00:19\n",
      "   ---------------- ----------------------- 80.5/192.3 MB 6.3 MB/s eta 0:00:18\n",
      "   ---------------- ----------------------- 81.0/192.3 MB 6.4 MB/s eta 0:00:18\n",
      "   ---------------- ----------------------- 81.4/192.3 MB 6.7 MB/s eta 0:00:17\n",
      "   ----------------- ---------------------- 81.8/192.3 MB 6.9 MB/s eta 0:00:17\n",
      "   ----------------- ---------------------- 82.2/192.3 MB 7.0 MB/s eta 0:00:16\n",
      "   ----------------- ---------------------- 82.7/192.3 MB 7.2 MB/s eta 0:00:16\n",
      "   ----------------- ---------------------- 83.2/192.3 MB 7.4 MB/s eta 0:00:15\n",
      "   ----------------- ---------------------- 83.7/192.3 MB 7.7 MB/s eta 0:00:15\n",
      "   ----------------- ---------------------- 84.1/192.3 MB 7.8 MB/s eta 0:00:14\n",
      "   ----------------- ---------------------- 84.6/192.3 MB 8.1 MB/s eta 0:00:14\n",
      "   ----------------- ---------------------- 84.9/192.3 MB 8.2 MB/s eta 0:00:14\n",
      "   ----------------- ---------------------- 85.3/192.3 MB 8.4 MB/s eta 0:00:13\n",
      "   ----------------- ---------------------- 85.5/192.3 MB 8.3 MB/s eta 0:00:13\n",
      "   ----------------- ---------------------- 86.0/192.3 MB 8.5 MB/s eta 0:00:13\n",
      "   ----------------- ---------------------- 86.5/192.3 MB 8.6 MB/s eta 0:00:13\n",
      "   ------------------ --------------------- 87.0/192.3 MB 8.7 MB/s eta 0:00:13\n",
      "   ------------------ --------------------- 87.5/192.3 MB 9.0 MB/s eta 0:00:12\n",
      "   ------------------ --------------------- 87.9/192.3 MB 9.0 MB/s eta 0:00:12\n",
      "   ------------------ --------------------- 88.4/192.3 MB 9.2 MB/s eta 0:00:12\n",
      "   ------------------ --------------------- 88.9/192.3 MB 9.4 MB/s eta 0:00:12\n",
      "   ------------------ --------------------- 89.3/192.3 MB 9.4 MB/s eta 0:00:12\n",
      "   ------------------ --------------------- 89.5/192.3 MB 9.2 MB/s eta 0:00:12\n",
      "   ------------------ --------------------- 89.8/192.3 MB 9.2 MB/s eta 0:00:12\n",
      "   ------------------ --------------------- 90.3/192.3 MB 9.2 MB/s eta 0:00:12\n",
      "   ------------------ --------------------- 90.6/192.3 MB 9.2 MB/s eta 0:00:12\n",
      "   ------------------ --------------------- 91.0/192.3 MB 9.1 MB/s eta 0:00:12\n",
      "   ------------------- -------------------- 91.5/192.3 MB 9.1 MB/s eta 0:00:12\n",
      "   ------------------- -------------------- 92.1/192.3 MB 9.1 MB/s eta 0:00:12\n",
      "   ------------------- -------------------- 92.5/192.3 MB 9.2 MB/s eta 0:00:11\n",
      "   ------------------- -------------------- 93.0/192.3 MB 9.2 MB/s eta 0:00:11\n",
      "   ------------------- -------------------- 93.5/192.3 MB 9.2 MB/s eta 0:00:11\n",
      "   ------------------- -------------------- 94.0/192.3 MB 9.2 MB/s eta 0:00:11\n",
      "   ------------------- -------------------- 94.5/192.3 MB 9.2 MB/s eta 0:00:11\n",
      "   ------------------- -------------------- 95.0/192.3 MB 9.5 MB/s eta 0:00:11\n",
      "   ------------------- -------------------- 95.3/192.3 MB 9.2 MB/s eta 0:00:11\n",
      "   ------------------- -------------------- 95.8/192.3 MB 9.5 MB/s eta 0:00:11\n",
      "   ------------------- -------------------- 96.1/192.3 MB 9.4 MB/s eta 0:00:11\n",
      "   -------------------- ------------------- 96.6/192.3 MB 9.4 MB/s eta 0:00:11\n",
      "   -------------------- ------------------- 97.1/192.3 MB 9.4 MB/s eta 0:00:11\n",
      "   -------------------- ------------------- 97.6/192.3 MB 9.4 MB/s eta 0:00:11\n",
      "   -------------------- ------------------- 98.2/192.3 MB 9.5 MB/s eta 0:00:10\n",
      "   -------------------- ------------------- 98.6/192.3 MB 9.4 MB/s eta 0:00:11\n",
      "   -------------------- ------------------- 99.1/192.3 MB 9.5 MB/s eta 0:00:10\n",
      "   -------------------- ------------------- 99.6/192.3 MB 9.9 MB/s eta 0:00:10\n",
      "   -------------------- ------------------ 100.1/192.3 MB 10.1 MB/s eta 0:00:10\n",
      "   -------------------- ------------------ 100.6/192.3 MB 10.2 MB/s eta 0:00:09\n",
      "   -------------------- ------------------ 101.1/192.3 MB 10.4 MB/s eta 0:00:09\n",
      "   -------------------- ------------------ 101.6/192.3 MB 10.4 MB/s eta 0:00:09\n",
      "   -------------------- ------------------ 102.1/192.3 MB 10.4 MB/s eta 0:00:09\n",
      "   -------------------- ------------------ 102.7/192.3 MB 10.6 MB/s eta 0:00:09\n",
      "   -------------------- ------------------ 103.2/192.3 MB 10.4 MB/s eta 0:00:09\n",
      "   --------------------- ----------------- 103.7/192.3 MB 10.6 MB/s eta 0:00:09\n",
      "   --------------------- ----------------- 104.2/192.3 MB 10.6 MB/s eta 0:00:09\n",
      "   --------------------- ----------------- 104.7/192.3 MB 10.6 MB/s eta 0:00:09\n",
      "   --------------------- ----------------- 105.2/192.3 MB 10.6 MB/s eta 0:00:09\n",
      "   --------------------- ----------------- 105.7/192.3 MB 10.7 MB/s eta 0:00:09\n",
      "   --------------------- ----------------- 106.3/192.3 MB 10.9 MB/s eta 0:00:08\n",
      "   --------------------- ----------------- 106.8/192.3 MB 11.1 MB/s eta 0:00:08\n",
      "   --------------------- ----------------- 107.3/192.3 MB 10.9 MB/s eta 0:00:08\n",
      "   --------------------- ----------------- 107.8/192.3 MB 11.1 MB/s eta 0:00:08\n",
      "   --------------------- ----------------- 108.3/192.3 MB 10.9 MB/s eta 0:00:08\n",
      "   ---------------------- ---------------- 108.7/192.3 MB 10.9 MB/s eta 0:00:08\n",
      "   ---------------------- ---------------- 109.3/192.3 MB 10.9 MB/s eta 0:00:08\n",
      "   ---------------------- ---------------- 109.7/192.3 MB 10.9 MB/s eta 0:00:08\n",
      "   ---------------------- ---------------- 110.3/192.3 MB 10.9 MB/s eta 0:00:08\n",
      "   ---------------------- ---------------- 110.7/192.3 MB 10.7 MB/s eta 0:00:08\n",
      "   ---------------------- ---------------- 111.2/192.3 MB 10.7 MB/s eta 0:00:08\n",
      "   ---------------------- ---------------- 111.8/192.3 MB 10.7 MB/s eta 0:00:08\n",
      "   ---------------------- ---------------- 112.2/192.3 MB 10.7 MB/s eta 0:00:08\n",
      "   ---------------------- ---------------- 112.7/192.3 MB 10.7 MB/s eta 0:00:08\n",
      "   ---------------------- ---------------- 113.2/192.3 MB 10.7 MB/s eta 0:00:08\n",
      "   ----------------------- --------------- 113.7/192.3 MB 10.7 MB/s eta 0:00:08\n",
      "   ----------------------- --------------- 114.0/192.3 MB 10.7 MB/s eta 0:00:08\n",
      "   ----------------------- --------------- 114.6/192.3 MB 10.6 MB/s eta 0:00:08\n",
      "   ----------------------- --------------- 115.0/192.3 MB 10.6 MB/s eta 0:00:08\n",
      "   ----------------------- --------------- 115.6/192.3 MB 10.6 MB/s eta 0:00:08\n",
      "   ----------------------- --------------- 116.0/192.3 MB 10.6 MB/s eta 0:00:08\n",
      "   ----------------------- --------------- 116.6/192.3 MB 10.4 MB/s eta 0:00:08\n",
      "   ----------------------- --------------- 117.1/192.3 MB 10.4 MB/s eta 0:00:08\n",
      "   ----------------------- --------------- 117.6/192.3 MB 10.4 MB/s eta 0:00:08\n",
      "   ----------------------- --------------- 118.0/192.3 MB 10.4 MB/s eta 0:00:08\n",
      "   ------------------------ -------------- 118.6/192.3 MB 10.4 MB/s eta 0:00:08\n",
      "   ------------------------ -------------- 119.1/192.3 MB 10.6 MB/s eta 0:00:07\n",
      "   ------------------------ -------------- 119.4/192.3 MB 10.4 MB/s eta 0:00:08\n",
      "   ------------------------ -------------- 120.0/192.3 MB 10.4 MB/s eta 0:00:07\n",
      "   ------------------------ -------------- 120.4/192.3 MB 10.4 MB/s eta 0:00:07\n",
      "   ------------------------ -------------- 121.0/192.3 MB 10.6 MB/s eta 0:00:07\n",
      "   ------------------------ -------------- 121.5/192.3 MB 10.6 MB/s eta 0:00:07\n",
      "   ------------------------ -------------- 122.0/192.3 MB 10.6 MB/s eta 0:00:07\n",
      "   ------------------------ -------------- 122.5/192.3 MB 10.6 MB/s eta 0:00:07\n",
      "   ------------------------ -------------- 123.0/192.3 MB 10.6 MB/s eta 0:00:07\n",
      "   ------------------------- ------------- 123.6/192.3 MB 10.7 MB/s eta 0:00:07\n",
      "   ------------------------- ------------- 124.1/192.3 MB 10.7 MB/s eta 0:00:07\n",
      "   ------------------------- ------------- 124.6/192.3 MB 10.9 MB/s eta 0:00:07\n",
      "   ------------------------- ------------- 125.1/192.3 MB 10.9 MB/s eta 0:00:07\n",
      "   ------------------------- ------------- 125.6/192.3 MB 10.9 MB/s eta 0:00:07\n",
      "   ------------------------- ------------- 126.2/192.3 MB 10.9 MB/s eta 0:00:07\n",
      "   ------------------------- ------------- 126.7/192.3 MB 10.9 MB/s eta 0:00:07\n",
      "   ------------------------- ------------- 127.2/192.3 MB 10.9 MB/s eta 0:00:06\n",
      "   ------------------------- ------------- 127.7/192.3 MB 10.9 MB/s eta 0:00:06\n",
      "   -------------------------- ------------ 128.2/192.3 MB 10.9 MB/s eta 0:00:06\n",
      "   -------------------------- ------------ 128.7/192.3 MB 10.9 MB/s eta 0:00:06\n",
      "   -------------------------- ------------ 129.3/192.3 MB 11.1 MB/s eta 0:00:06\n",
      "   -------------------------- ------------ 129.8/192.3 MB 11.1 MB/s eta 0:00:06\n",
      "   -------------------------- ------------ 130.3/192.3 MB 11.1 MB/s eta 0:00:06\n",
      "   -------------------------- ------------ 130.8/192.3 MB 11.1 MB/s eta 0:00:06\n",
      "   -------------------------- ------------ 131.2/192.3 MB 10.9 MB/s eta 0:00:06\n",
      "   -------------------------- ------------ 131.7/192.3 MB 10.9 MB/s eta 0:00:06\n",
      "   -------------------------- ------------ 132.1/192.3 MB 10.9 MB/s eta 0:00:06\n",
      "   -------------------------- ------------ 132.5/192.3 MB 10.7 MB/s eta 0:00:06\n",
      "   -------------------------- ------------ 133.1/192.3 MB 10.7 MB/s eta 0:00:06\n",
      "   --------------------------- ----------- 133.6/192.3 MB 10.7 MB/s eta 0:00:06\n",
      "   --------------------------- ----------- 134.1/192.3 MB 10.7 MB/s eta 0:00:06\n",
      "   --------------------------- ----------- 134.6/192.3 MB 10.7 MB/s eta 0:00:06\n",
      "   --------------------------- ----------- 135.0/192.3 MB 10.6 MB/s eta 0:00:06\n",
      "   --------------------------- ----------- 135.5/192.3 MB 10.6 MB/s eta 0:00:06\n",
      "   --------------------------- ----------- 136.0/192.3 MB 10.6 MB/s eta 0:00:06\n",
      "   --------------------------- ----------- 136.5/192.3 MB 10.6 MB/s eta 0:00:06\n",
      "   --------------------------- ----------- 137.0/192.3 MB 10.6 MB/s eta 0:00:06\n",
      "   --------------------------- ----------- 137.6/192.3 MB 10.7 MB/s eta 0:00:06\n",
      "   ---------------------------- ---------- 138.1/192.3 MB 10.7 MB/s eta 0:00:06\n",
      "   ---------------------------- ---------- 138.6/192.3 MB 10.6 MB/s eta 0:00:06\n",
      "   ---------------------------- ---------- 139.1/192.3 MB 10.6 MB/s eta 0:00:06\n",
      "   ---------------------------- ---------- 139.6/192.3 MB 10.7 MB/s eta 0:00:05\n",
      "   ---------------------------- ---------- 140.1/192.3 MB 10.6 MB/s eta 0:00:05\n",
      "   ---------------------------- ---------- 140.6/192.3 MB 10.6 MB/s eta 0:00:05\n",
      "   ---------------------------- ---------- 141.1/192.3 MB 10.6 MB/s eta 0:00:05\n",
      "   ---------------------------- ---------- 141.6/192.3 MB 10.7 MB/s eta 0:00:05\n",
      "   ---------------------------- ---------- 142.1/192.3 MB 10.7 MB/s eta 0:00:05\n",
      "   ---------------------------- ---------- 142.6/192.3 MB 10.9 MB/s eta 0:00:05\n",
      "   ----------------------------- --------- 143.0/192.3 MB 10.7 MB/s eta 0:00:05\n",
      "   ----------------------------- --------- 143.5/192.3 MB 10.7 MB/s eta 0:00:05\n",
      "   ----------------------------- --------- 144.1/192.3 MB 10.9 MB/s eta 0:00:05\n",
      "   ----------------------------- --------- 144.6/192.3 MB 10.7 MB/s eta 0:00:05\n",
      "   ----------------------------- --------- 145.1/192.3 MB 10.9 MB/s eta 0:00:05\n",
      "   ----------------------------- --------- 145.6/192.3 MB 10.9 MB/s eta 0:00:05\n",
      "   ----------------------------- --------- 146.1/192.3 MB 10.9 MB/s eta 0:00:05\n",
      "   ----------------------------- --------- 146.7/192.3 MB 10.9 MB/s eta 0:00:05\n",
      "   ----------------------------- --------- 147.1/192.3 MB 10.9 MB/s eta 0:00:05\n",
      "   ----------------------------- --------- 147.7/192.3 MB 10.9 MB/s eta 0:00:05\n",
      "   ------------------------------ -------- 148.2/192.3 MB 10.9 MB/s eta 0:00:05\n",
      "   ------------------------------ -------- 148.7/192.3 MB 10.9 MB/s eta 0:00:05\n",
      "   ------------------------------ -------- 149.2/192.3 MB 10.9 MB/s eta 0:00:04\n",
      "   ------------------------------ -------- 149.7/192.3 MB 10.9 MB/s eta 0:00:04\n",
      "   ------------------------------ -------- 150.2/192.3 MB 10.9 MB/s eta 0:00:04\n",
      "   ------------------------------ -------- 150.7/192.3 MB 10.9 MB/s eta 0:00:04\n",
      "   ------------------------------ -------- 151.2/192.3 MB 10.9 MB/s eta 0:00:04\n",
      "   ------------------------------ -------- 151.7/192.3 MB 10.7 MB/s eta 0:00:04\n",
      "   ------------------------------ -------- 152.2/192.3 MB 10.9 MB/s eta 0:00:04\n",
      "   ------------------------------ -------- 152.7/192.3 MB 10.9 MB/s eta 0:00:04\n",
      "   ------------------------------- ------- 153.3/192.3 MB 11.1 MB/s eta 0:00:04\n",
      "   ------------------------------- ------- 153.7/192.3 MB 10.9 MB/s eta 0:00:04\n",
      "   ------------------------------- ------- 154.3/192.3 MB 10.9 MB/s eta 0:00:04\n",
      "   ------------------------------- ------- 154.7/192.3 MB 10.9 MB/s eta 0:00:04\n",
      "   ------------------------------- ------- 155.3/192.3 MB 10.9 MB/s eta 0:00:04\n",
      "   ------------------------------- ------- 155.8/192.3 MB 10.9 MB/s eta 0:00:04\n",
      "   ------------------------------- ------- 156.3/192.3 MB 10.9 MB/s eta 0:00:04\n",
      "   ------------------------------- ------- 156.8/192.3 MB 10.9 MB/s eta 0:00:04\n",
      "   ------------------------------- ------- 157.3/192.3 MB 11.1 MB/s eta 0:00:04\n",
      "   -------------------------------- ------ 157.9/192.3 MB 11.1 MB/s eta 0:00:04\n",
      "   -------------------------------- ------ 158.4/192.3 MB 10.9 MB/s eta 0:00:04\n",
      "   -------------------------------- ------ 158.9/192.3 MB 11.1 MB/s eta 0:00:04\n",
      "   -------------------------------- ------ 159.5/192.3 MB 10.9 MB/s eta 0:00:04\n",
      "   -------------------------------- ------ 159.8/192.3 MB 11.1 MB/s eta 0:00:03\n",
      "   -------------------------------- ------ 160.4/192.3 MB 10.9 MB/s eta 0:00:03\n",
      "   -------------------------------- ------ 160.8/192.3 MB 10.7 MB/s eta 0:00:03\n",
      "   -------------------------------- ------ 161.2/192.3 MB 10.9 MB/s eta 0:00:03\n",
      "   -------------------------------- ------ 161.8/192.3 MB 10.9 MB/s eta 0:00:03\n",
      "   -------------------------------- ------ 162.3/192.3 MB 10.9 MB/s eta 0:00:03\n",
      "   -------------------------------- ------ 162.7/192.3 MB 10.9 MB/s eta 0:00:03\n",
      "   --------------------------------- ----- 163.2/192.3 MB 10.7 MB/s eta 0:00:03\n",
      "   --------------------------------- ----- 163.6/192.3 MB 10.7 MB/s eta 0:00:03\n",
      "   --------------------------------- ----- 164.0/192.3 MB 10.6 MB/s eta 0:00:03\n",
      "   --------------------------------- ----- 164.5/192.3 MB 10.6 MB/s eta 0:00:03\n",
      "   --------------------------------- ----- 165.1/192.3 MB 10.6 MB/s eta 0:00:03\n",
      "   --------------------------------- ----- 165.6/192.3 MB 10.6 MB/s eta 0:00:03\n",
      "   --------------------------------- ----- 166.1/192.3 MB 10.6 MB/s eta 0:00:03\n",
      "   --------------------------------- ----- 166.5/192.3 MB 10.6 MB/s eta 0:00:03\n",
      "   --------------------------------- ----- 167.0/192.3 MB 10.4 MB/s eta 0:00:03\n",
      "   --------------------------------- ----- 167.4/192.3 MB 10.4 MB/s eta 0:00:03\n",
      "   ---------------------------------- ---- 167.9/192.3 MB 10.4 MB/s eta 0:00:03\n",
      "   ---------------------------------- ---- 168.5/192.3 MB 10.4 MB/s eta 0:00:03\n",
      "   ---------------------------------- ---- 168.9/192.3 MB 10.2 MB/s eta 0:00:03\n",
      "   ---------------------------------- ---- 169.5/192.3 MB 10.4 MB/s eta 0:00:03\n",
      "   ---------------------------------- ---- 170.0/192.3 MB 10.4 MB/s eta 0:00:03\n",
      "   ---------------------------------- ---- 170.5/192.3 MB 10.4 MB/s eta 0:00:03\n",
      "   ---------------------------------- ---- 171.1/192.3 MB 10.6 MB/s eta 0:00:03\n",
      "   ---------------------------------- ---- 171.6/192.3 MB 10.6 MB/s eta 0:00:02\n",
      "   ---------------------------------- ---- 172.0/192.3 MB 10.6 MB/s eta 0:00:02\n",
      "   ---------------------------------- ---- 172.5/192.3 MB 10.4 MB/s eta 0:00:02\n",
      "   ----------------------------------- --- 173.1/192.3 MB 10.6 MB/s eta 0:00:02\n",
      "   ----------------------------------- --- 173.6/192.3 MB 10.7 MB/s eta 0:00:02\n",
      "   ----------------------------------- --- 174.1/192.3 MB 10.7 MB/s eta 0:00:02\n",
      "   ----------------------------------- --- 174.5/192.3 MB 10.7 MB/s eta 0:00:02\n",
      "   ----------------------------------- --- 174.7/192.3 MB 10.6 MB/s eta 0:00:02\n",
      "   ----------------------------------- --- 174.9/192.3 MB 10.2 MB/s eta 0:00:02\n",
      "   ----------------------------------- --- 175.4/192.3 MB 10.2 MB/s eta 0:00:02\n",
      "   ----------------------------------- --- 175.9/192.3 MB 10.2 MB/s eta 0:00:02\n",
      "   ----------------------------------- --- 176.3/192.3 MB 10.2 MB/s eta 0:00:02\n",
      "   ----------------------------------- --- 176.8/192.3 MB 10.2 MB/s eta 0:00:02\n",
      "   ----------------------------------- --- 177.2/192.3 MB 10.2 MB/s eta 0:00:02\n",
      "   ------------------------------------ -- 177.7/192.3 MB 10.4 MB/s eta 0:00:02\n",
      "   ------------------------------------ -- 178.1/192.3 MB 10.2 MB/s eta 0:00:02\n",
      "   ------------------------------------ -- 178.6/192.3 MB 10.2 MB/s eta 0:00:02\n",
      "   ------------------------------------ -- 179.1/192.3 MB 10.2 MB/s eta 0:00:02\n",
      "   ------------------------------------ -- 179.6/192.3 MB 10.2 MB/s eta 0:00:02\n",
      "   ------------------------------------ -- 180.1/192.3 MB 10.2 MB/s eta 0:00:02\n",
      "   ------------------------------------ -- 180.6/192.3 MB 10.1 MB/s eta 0:00:02\n",
      "   ------------------------------------ -- 181.1/192.3 MB 10.1 MB/s eta 0:00:02\n",
      "   ------------------------------------ -- 181.6/192.3 MB 10.2 MB/s eta 0:00:02\n",
      "   ------------------------------------ -- 182.1/192.3 MB 10.2 MB/s eta 0:00:01\n",
      "   ------------------------------------- - 182.6/192.3 MB 10.2 MB/s eta 0:00:01\n",
      "   ------------------------------------- - 183.0/192.3 MB 10.2 MB/s eta 0:00:01\n",
      "   ------------------------------------- - 183.5/192.3 MB 10.1 MB/s eta 0:00:01\n",
      "   ------------------------------------- - 184.0/192.3 MB 10.2 MB/s eta 0:00:01\n",
      "   ------------------------------------- - 184.5/192.3 MB 10.2 MB/s eta 0:00:01\n",
      "   ------------------------------------- - 184.9/192.3 MB 10.4 MB/s eta 0:00:01\n",
      "   ------------------------------------- - 185.5/192.3 MB 10.6 MB/s eta 0:00:01\n",
      "   ------------------------------------- - 185.9/192.3 MB 10.7 MB/s eta 0:00:01\n",
      "   ------------------------------------- - 186.4/192.3 MB 10.7 MB/s eta 0:00:01\n",
      "   ------------------------------------- - 187.0/192.3 MB 10.7 MB/s eta 0:00:01\n",
      "   --------------------------------------  187.5/192.3 MB 10.9 MB/s eta 0:00:01\n",
      "   --------------------------------------  188.0/192.3 MB 10.9 MB/s eta 0:00:01\n",
      "   --------------------------------------  188.6/192.3 MB 10.7 MB/s eta 0:00:01\n",
      "   --------------------------------------  189.1/192.3 MB 10.9 MB/s eta 0:00:01\n",
      "   --------------------------------------  189.6/192.3 MB 11.1 MB/s eta 0:00:01\n",
      "   --------------------------------------  190.1/192.3 MB 10.9 MB/s eta 0:00:01\n",
      "   --------------------------------------  190.5/192.3 MB 10.9 MB/s eta 0:00:01\n",
      "   --------------------------------------  191.0/192.3 MB 10.9 MB/s eta 0:00:01\n",
      "   --------------------------------------  191.6/192.3 MB 10.9 MB/s eta 0:00:01\n",
      "   --------------------------------------  192.0/192.3 MB 10.7 MB/s eta 0:00:01\n",
      "   --------------------------------------  192.3/192.3 MB 10.9 MB/s eta 0:00:01\n",
      "   --------------------------------------  192.3/192.3 MB 10.9 MB/s eta 0:00:01\n",
      "   --------------------------------------  192.3/192.3 MB 10.9 MB/s eta 0:00:01\n",
      "   --------------------------------------  192.3/192.3 MB 10.9 MB/s eta 0:00:01\n",
      "   --------------------------------------  192.3/192.3 MB 10.9 MB/s eta 0:00:01\n",
      "   --------------------------------------  192.3/192.3 MB 10.9 MB/s eta 0:00:01\n",
      "   --------------------------------------  192.3/192.3 MB 10.9 MB/s eta 0:00:01\n",
      "   --------------------------------------  192.3/192.3 MB 10.9 MB/s eta 0:00:01\n",
      "   --------------------------------------  192.3/192.3 MB 10.9 MB/s eta 0:00:01\n",
      "   --------------------------------------  192.3/192.3 MB 10.9 MB/s eta 0:00:01\n",
      "   --------------------------------------  192.3/192.3 MB 10.9 MB/s eta 0:00:01\n",
      "   --------------------------------------  192.3/192.3 MB 10.9 MB/s eta 0:00:01\n",
      "   --------------------------------------  192.3/192.3 MB 10.9 MB/s eta 0:00:01\n",
      "   --------------------------------------  192.3/192.3 MB 10.9 MB/s eta 0:00:01\n",
      "   --------------------------------------  192.3/192.3 MB 10.9 MB/s eta 0:00:01\n",
      "   --------------------------------------  192.3/192.3 MB 10.9 MB/s eta 0:00:01\n",
      "   --------------------------------------  192.3/192.3 MB 10.9 MB/s eta 0:00:01\n",
      "   --------------------------------------  192.3/192.3 MB 10.9 MB/s eta 0:00:01\n",
      "   --------------------------------------  192.3/192.3 MB 10.9 MB/s eta 0:00:01\n",
      "   --------------------------------------  192.3/192.3 MB 10.9 MB/s eta 0:00:01\n",
      "   --------------------------------------  192.3/192.3 MB 10.9 MB/s eta 0:00:01\n",
      "   --------------------------------------  192.3/192.3 MB 10.9 MB/s eta 0:00:01\n",
      "   --------------------------------------  192.3/192.3 MB 10.9 MB/s eta 0:00:01\n",
      "   ---------------------------------------- 192.3/192.3 MB 4.6 MB/s eta 0:00:00\n",
      "Downloading torchvision-0.16.0-cp311-cp311-win_amd64.whl (1.3 MB)\n",
      "   ---------------------------------------- 0.0/1.3 MB ? eta -:--:--\n",
      "   ---------------- ----------------------- 0.5/1.3 MB 16.0 MB/s eta 0:00:01\n",
      "   ----------------------------- ---------- 0.9/1.3 MB 11.5 MB/s eta 0:00:01\n",
      "   ---------------------------------------  1.3/1.3 MB 11.4 MB/s eta 0:00:01\n",
      "   ---------------------------------------- 1.3/1.3 MB 8.9 MB/s eta 0:00:00\n",
      "Downloading torchaudio-2.1.0-cp311-cp311-win_amd64.whl (2.3 MB)\n",
      "   ---------------------------------------- 0.0/2.3 MB ? eta -:--:--\n",
      "   --------- ------------------------------ 0.5/2.3 MB 11.1 MB/s eta 0:00:01\n",
      "   ------------------ --------------------- 1.1/2.3 MB 11.3 MB/s eta 0:00:01\n",
      "   -------------------------- ------------- 1.5/2.3 MB 9.6 MB/s eta 0:00:01\n",
      "   --------------------------------- ------ 2.0/2.3 MB 10.4 MB/s eta 0:00:01\n",
      "   ---------------------------------------  2.3/2.3 MB 9.8 MB/s eta 0:00:01\n",
      "   ---------------------------------------  2.3/2.3 MB 9.8 MB/s eta 0:00:01\n",
      "   ---------------------------------------  2.3/2.3 MB 9.8 MB/s eta 0:00:01\n",
      "   ---------------------------------------- 2.3/2.3 MB 6.4 MB/s eta 0:00:00\n",
      "Installing collected packages: torch, torchvision, torchaudio\n",
      "Successfully installed torch-2.1.0 torchaudio-2.1.0 torchvision-0.16.0\n"
     ]
    },
    {
     "name": "stderr",
     "output_type": "stream",
     "text": [
      "  WARNING: The scripts convert-caffe2-to-onnx.exe, convert-onnx-to-caffe2.exe and torchrun.exe are installed in 'C:\\Users\\Omakar\\AppData\\Roaming\\Python\\Python311\\Scripts' which is not on PATH.\n",
      "  Consider adding this directory to PATH or, if you prefer to suppress this warning, use --no-warn-script-location.\n"
     ]
    }
   ],
   "source": [
    "!pip3 install torch torchvision torchaudio --extra-index-url https://download.pytorch.org/whl/cu115"
   ]
  },
  {
   "cell_type": "code",
   "execution_count": 13,
   "metadata": {
    "id": "cju81-Qq4mXs"
   },
   "outputs": [],
   "source": [
    "import torch\n",
    "import torch.nn as nn"
   ]
  },
  {
   "cell_type": "code",
   "execution_count": 14,
   "metadata": {
    "colab": {
     "base_uri": "https://localhost:8080/"
    },
    "id": "v8Pa1fuw4o5z",
    "outputId": "3493f5e4-2780-4a88-e54a-e9215a0ab46e"
   },
   "outputs": [
    {
     "name": "stdout",
     "output_type": "stream",
     "text": [
      "2.1.0+cpu\n"
     ]
    }
   ],
   "source": [
    "print(torch.__version__)"
   ]
  },
  {
   "cell_type": "code",
   "execution_count": 15,
   "metadata": {
    "colab": {
     "base_uri": "https://localhost:8080/"
    },
    "id": "qCfnunlg4pKW",
    "outputId": "1c942374-dec0-4088-aa80-9da85c042415"
   },
   "outputs": [
    {
     "data": {
      "text/plain": [
       "False"
      ]
     },
     "execution_count": 15,
     "metadata": {},
     "output_type": "execute_result"
    }
   ],
   "source": [
    "torch.cuda.is_available()"
   ]
  },
  {
   "cell_type": "code",
   "execution_count": null,
   "metadata": {},
   "outputs": [],
   "source": []
  }
 ],
 "metadata": {
  "colab": {
   "collapsed_sections": [],
   "provenance": []
  },
  "kernelspec": {
   "display_name": "Python 3 (ipykernel)",
   "language": "python",
   "name": "python3"
  },
  "language_info": {
   "codemirror_mode": {
    "name": "ipython",
    "version": 3
   },
   "file_extension": ".py",
   "mimetype": "text/x-python",
   "name": "python",
   "nbconvert_exporter": "python",
   "pygments_lexer": "ipython3",
   "version": "3.11.4"
  }
 },
 "nbformat": 4,
 "nbformat_minor": 1
}
